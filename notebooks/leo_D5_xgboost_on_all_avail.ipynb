{
 "cells": [
  {
   "cell_type": "code",
   "execution_count": 1,
   "id": "019e6ce9",
   "metadata": {},
   "outputs": [],
   "source": [
    "%load_ext autoreload\n",
    "%autoreload 2"
   ]
  },
  {
   "cell_type": "code",
   "execution_count": 2,
   "id": "e3cc5cea",
   "metadata": {},
   "outputs": [
    {
     "name": "stderr",
     "output_type": "stream",
     "text": [
      "2022-09-09 14:39:01.180351: W tensorflow/stream_executor/platform/default/dso_loader.cc:64] Could not load dynamic library 'libcudart.so.11.0'; dlerror: libcudart.so.11.0: cannot open shared object file: No such file or directory\n",
      "2022-09-09 14:39:01.180391: I tensorflow/stream_executor/cuda/cudart_stub.cc:29] Ignore above cudart dlerror if you do not have a GPU set up on your machine.\n"
     ]
    }
   ],
   "source": [
    "import pandas as pd\n",
    "import numpy as np\n",
    "pd.set_option('display.max_columns', None)\n",
    "pd.options.display.max_info_columns=500\n",
    "pd.options.display.max_info_rows=550\n",
    "from tensorflow.keras.losses import mean_squared_error, mean_absolute_error\n",
    "from tensorflow.keras.models import Sequential\n",
    "from tensorflow.keras.layers import Dense\n",
    "from sklearn.pipeline import Pipeline\n",
    "from sklearn.preprocessing import StandardScaler, OneHotEncoder, MinMaxScaler\n",
    "from sklearn.compose import ColumnTransformer\n",
    "from sklearn import set_config; set_config(display='diagram')\n",
    "from sklearn.model_selection import train_test_split, StratifiedKFold, RandomizedSearchCV, cross_val_score, GridSearchCV\n",
    "from xgboost import XGBRegressor"
   ]
  },
  {
   "cell_type": "code",
   "execution_count": 3,
   "id": "a8d60d5a",
   "metadata": {},
   "outputs": [
    {
     "name": "stdout",
     "output_type": "stream",
     "text": [
      "Reading data...\n",
      "Preproc on power % revenue\n",
      "Preproc on Sector Revenue\n",
      "Selecting the year 2013 required...\n",
      "Dropping rows that are showing NaN on...\n",
      "-> intensity_scope1CY2013\n",
      "-> intensity_scope2CY2013\n",
      "-> intensity_scope3CY2013\n",
      "-> Revenue2013\n",
      "Filling employee numbers with mean value... (subject to change later)\n",
      "Filling EV with mean value... (subject to change later)\n",
      "Calculating Employees & EV per Revenue...\n",
      "Filling null Climate Strategy Score with 0...\n",
      "Cleaning P/E Ratio...\n",
      "Adding Scope 1 and Scope 2 data together...\n",
      "Doing some column renaming...\n",
      "Dataset preproc-ed for the year 2013!👍\n",
      "Reading data...\n",
      "Preproc on power % revenue\n",
      "Preproc on Sector Revenue\n",
      "Selecting the year 2014 required...\n",
      "Dropping rows that are showing NaN on...\n",
      "-> intensity_scope1CY2014\n",
      "-> intensity_scope2CY2014\n",
      "-> intensity_scope3CY2014\n",
      "-> Revenue2014\n",
      "Filling employee numbers with mean value... (subject to change later)\n",
      "Filling EV with mean value... (subject to change later)\n",
      "Calculating Employees & EV per Revenue...\n",
      "Filling null Climate Strategy Score with 0...\n",
      "Cleaning P/E Ratio...\n",
      "Adding Scope 1 and Scope 2 data together...\n",
      "Doing some column renaming...\n",
      "Dataset preproc-ed for the year 2014!👍\n",
      "Reading data...\n",
      "Preproc on power % revenue\n",
      "Preproc on Sector Revenue\n",
      "Selecting the year 2015 required...\n",
      "Dropping rows that are showing NaN on...\n",
      "-> intensity_scope1CY2015\n",
      "-> intensity_scope2CY2015\n",
      "-> intensity_scope3CY2015\n",
      "-> Revenue2015\n",
      "Filling employee numbers with mean value... (subject to change later)\n",
      "Filling EV with mean value... (subject to change later)\n",
      "Calculating Employees & EV per Revenue...\n",
      "Filling null Climate Strategy Score with 0...\n",
      "Cleaning P/E Ratio...\n",
      "Adding Scope 1 and Scope 2 data together...\n",
      "Doing some column renaming...\n",
      "Dataset preproc-ed for the year 2015!👍\n",
      "Reading data...\n",
      "Preproc on power % revenue\n",
      "Preproc on Sector Revenue\n",
      "Selecting the year 2016 required...\n",
      "Dropping rows that are showing NaN on...\n",
      "-> intensity_scope1CY2016\n",
      "-> intensity_scope2CY2016\n",
      "-> intensity_scope3CY2016\n",
      "-> Revenue2016\n",
      "Filling employee numbers with mean value... (subject to change later)\n",
      "Filling EV with mean value... (subject to change later)\n",
      "Calculating Employees & EV per Revenue...\n",
      "Filling null Climate Strategy Score with 0...\n",
      "Cleaning P/E Ratio...\n",
      "Adding Scope 1 and Scope 2 data together...\n",
      "Doing some column renaming...\n",
      "Dataset preproc-ed for the year 2016!👍\n",
      "Reading data...\n",
      "Preproc on power % revenue\n",
      "Preproc on Sector Revenue\n",
      "Selecting the year 2017 required...\n",
      "Dropping rows that are showing NaN on...\n",
      "-> intensity_scope1CY2017\n",
      "-> intensity_scope2CY2017\n",
      "-> intensity_scope3CY2017\n",
      "-> Revenue2017\n",
      "Filling employee numbers with mean value... (subject to change later)\n",
      "Filling EV with mean value... (subject to change later)\n",
      "Calculating Employees & EV per Revenue...\n",
      "Filling null Climate Strategy Score with 0...\n",
      "Cleaning P/E Ratio...\n",
      "Adding Scope 1 and Scope 2 data together...\n",
      "Doing some column renaming...\n",
      "Dataset preproc-ed for the year 2017!👍\n",
      "Reading data...\n",
      "Preproc on power % revenue\n",
      "Preproc on Sector Revenue\n",
      "Selecting the year 2018 required...\n",
      "Dropping rows that are showing NaN on...\n",
      "-> intensity_scope1CY2018\n",
      "-> intensity_scope2CY2018\n",
      "-> intensity_scope3CY2018\n",
      "-> Revenue2018\n",
      "Filling employee numbers with mean value... (subject to change later)\n",
      "Filling EV with mean value... (subject to change later)\n",
      "Calculating Employees & EV per Revenue...\n",
      "Filling null Climate Strategy Score with 0...\n",
      "Cleaning P/E Ratio...\n",
      "Adding Scope 1 and Scope 2 data together...\n",
      "Doing some column renaming...\n",
      "Dataset preproc-ed for the year 2018!👍\n",
      "Reading data...\n",
      "Preproc on power % revenue\n",
      "Preproc on Sector Revenue\n",
      "Selecting the year 2019 required...\n",
      "Dropping rows that are showing NaN on...\n",
      "-> intensity_scope1CY2019\n",
      "-> intensity_scope2CY2019\n",
      "-> intensity_scope3CY2019\n",
      "-> Revenue2019\n",
      "Filling employee numbers with mean value... (subject to change later)\n",
      "Filling EV with mean value... (subject to change later)\n",
      "Calculating Employees & EV per Revenue...\n",
      "Filling null Climate Strategy Score with 0...\n",
      "Cleaning P/E Ratio...\n",
      "Adding Scope 1 and Scope 2 data together...\n",
      "Doing some column renaming...\n",
      "Dataset preproc-ed for the year 2019!👍\n",
      "Reading data...\n",
      "Preproc on power % revenue\n",
      "Preproc on Sector Revenue\n",
      "Selecting the year 2020 required...\n",
      "Dropping rows that are showing NaN on...\n",
      "-> intensity_scope1CY2020\n",
      "-> intensity_scope2CY2020\n",
      "-> intensity_scope3CY2020\n",
      "-> Revenue2020\n",
      "Filling employee numbers with mean value... (subject to change later)\n",
      "Filling EV with mean value... (subject to change later)\n",
      "Calculating Employees & EV per Revenue...\n",
      "Filling null Climate Strategy Score with 0...\n",
      "Cleaning P/E Ratio...\n",
      "Adding Scope 1 and Scope 2 data together...\n",
      "Doing some column renaming...\n",
      "Dataset preproc-ed for the year 2020!👍\n"
     ]
    }
   ],
   "source": [
    "from carbon_forecast.utils.preproc import load_n_preproc, load_n_preproc_all_avail\n",
    "df = load_n_preproc_all_avail()"
   ]
  },
  {
   "cell_type": "code",
   "execution_count": 4,
   "id": "f392414e",
   "metadata": {},
   "outputs": [],
   "source": [
    "X = df.drop(columns=[\"company_name\", \"TCUID\", \"year\", \"intensity_1and2\",\"intensity_scope3\"])\n",
    "y = df[\"intensity_1and2\"]"
   ]
  },
  {
   "cell_type": "code",
   "execution_count": 5,
   "id": "d27d9ade",
   "metadata": {},
   "outputs": [
    {
     "name": "stderr",
     "output_type": "stream",
     "text": [
      "2022-09-09 14:39:08.364836: W tensorflow/stream_executor/platform/default/dso_loader.cc:64] Could not load dynamic library 'libcuda.so.1'; dlerror: libcuda.so.1: cannot open shared object file: No such file or directory\n",
      "2022-09-09 14:39:08.364925: W tensorflow/stream_executor/cuda/cuda_driver.cc:269] failed call to cuInit: UNKNOWN ERROR (303)\n",
      "2022-09-09 14:39:08.364966: I tensorflow/stream_executor/cuda/cuda_diagnostics.cc:156] kernel driver does not appear to be running on this host (VIVOLC): /proc/driver/nvidia/version does not exist\n",
      "2022-09-09 14:39:08.365451: I tensorflow/core/platform/cpu_feature_guard.cc:151] This TensorFlow binary is optimized with oneAPI Deep Neural Network Library (oneDNN) to use the following CPU instructions in performance-critical operations:  AVX2 FMA\n",
      "To enable them in other operations, rebuild TensorFlow with the appropriate compiler flags.\n"
     ]
    },
    {
     "data": {
      "text/plain": [
       "<tf.Tensor: shape=(), dtype=float64, numpy=498.3965359160297>"
      ]
     },
     "execution_count": 5,
     "metadata": {},
     "output_type": "execute_result"
    }
   ],
   "source": [
    "mean_absolute_error(y,y.mean())"
   ]
  },
  {
   "cell_type": "code",
   "execution_count": 6,
   "id": "8b2e790a",
   "metadata": {
    "scrolled": true
   },
   "outputs": [
    {
     "data": {
      "text/html": [
       "<style>#sk-container-id-1 {color: black;background-color: white;}#sk-container-id-1 pre{padding: 0;}#sk-container-id-1 div.sk-toggleable {background-color: white;}#sk-container-id-1 label.sk-toggleable__label {cursor: pointer;display: block;width: 100%;margin-bottom: 0;padding: 0.3em;box-sizing: border-box;text-align: center;}#sk-container-id-1 label.sk-toggleable__label-arrow:before {content: \"▸\";float: left;margin-right: 0.25em;color: #696969;}#sk-container-id-1 label.sk-toggleable__label-arrow:hover:before {color: black;}#sk-container-id-1 div.sk-estimator:hover label.sk-toggleable__label-arrow:before {color: black;}#sk-container-id-1 div.sk-toggleable__content {max-height: 0;max-width: 0;overflow: hidden;text-align: left;background-color: #f0f8ff;}#sk-container-id-1 div.sk-toggleable__content pre {margin: 0.2em;color: black;border-radius: 0.25em;background-color: #f0f8ff;}#sk-container-id-1 input.sk-toggleable__control:checked~div.sk-toggleable__content {max-height: 200px;max-width: 100%;overflow: auto;}#sk-container-id-1 input.sk-toggleable__control:checked~label.sk-toggleable__label-arrow:before {content: \"▾\";}#sk-container-id-1 div.sk-estimator input.sk-toggleable__control:checked~label.sk-toggleable__label {background-color: #d4ebff;}#sk-container-id-1 div.sk-label input.sk-toggleable__control:checked~label.sk-toggleable__label {background-color: #d4ebff;}#sk-container-id-1 input.sk-hidden--visually {border: 0;clip: rect(1px 1px 1px 1px);clip: rect(1px, 1px, 1px, 1px);height: 1px;margin: -1px;overflow: hidden;padding: 0;position: absolute;width: 1px;}#sk-container-id-1 div.sk-estimator {font-family: monospace;background-color: #f0f8ff;border: 1px dotted black;border-radius: 0.25em;box-sizing: border-box;margin-bottom: 0.5em;}#sk-container-id-1 div.sk-estimator:hover {background-color: #d4ebff;}#sk-container-id-1 div.sk-parallel-item::after {content: \"\";width: 100%;border-bottom: 1px solid gray;flex-grow: 1;}#sk-container-id-1 div.sk-label:hover label.sk-toggleable__label {background-color: #d4ebff;}#sk-container-id-1 div.sk-serial::before {content: \"\";position: absolute;border-left: 1px solid gray;box-sizing: border-box;top: 0;bottom: 0;left: 50%;z-index: 0;}#sk-container-id-1 div.sk-serial {display: flex;flex-direction: column;align-items: center;background-color: white;padding-right: 0.2em;padding-left: 0.2em;position: relative;}#sk-container-id-1 div.sk-item {position: relative;z-index: 1;}#sk-container-id-1 div.sk-parallel {display: flex;align-items: stretch;justify-content: center;background-color: white;position: relative;}#sk-container-id-1 div.sk-item::before, #sk-container-id-1 div.sk-parallel-item::before {content: \"\";position: absolute;border-left: 1px solid gray;box-sizing: border-box;top: 0;bottom: 0;left: 50%;z-index: -1;}#sk-container-id-1 div.sk-parallel-item {display: flex;flex-direction: column;z-index: 1;position: relative;background-color: white;}#sk-container-id-1 div.sk-parallel-item:first-child::after {align-self: flex-end;width: 50%;}#sk-container-id-1 div.sk-parallel-item:last-child::after {align-self: flex-start;width: 50%;}#sk-container-id-1 div.sk-parallel-item:only-child::after {width: 0;}#sk-container-id-1 div.sk-dashed-wrapped {border: 1px dashed gray;margin: 0 0.4em 0.5em 0.4em;box-sizing: border-box;padding-bottom: 0.4em;background-color: white;}#sk-container-id-1 div.sk-label label {font-family: monospace;font-weight: bold;display: inline-block;line-height: 1.2em;}#sk-container-id-1 div.sk-label-container {text-align: center;}#sk-container-id-1 div.sk-container {/* jupyter's `normalize.less` sets `[hidden] { display: none; }` but bootstrap.min.css set `[hidden] { display: none !important; }` so we also need the `!important` here to be able to override the default hidden behavior on the sphinx rendered scikit-learn.org. See: https://github.com/scikit-learn/scikit-learn/issues/21755 */display: inline-block !important;position: relative;}#sk-container-id-1 div.sk-text-repr-fallback {display: none;}</style><div id=\"sk-container-id-1\" class=\"sk-top-container\"><div class=\"sk-text-repr-fallback\"><pre>ColumnTransformer(sparse_threshold=0,\n",
       "                  transformers=[(&#x27;num_tr&#x27;, MinMaxScaler(),\n",
       "                                 [&#x27;Abrasive product manufacturing&#x27;,\n",
       "                                  &#x27;Accounting, tax preparation, bookkeeping, &#x27;\n",
       "                                  &#x27;and payroll services&#x27;,\n",
       "                                  &#x27;Adhesive manufacturing&#x27;,\n",
       "                                  &#x27;Advertising and related services&#x27;,\n",
       "                                  &#x27;Air and gas compressor manufacturing&#x27;,\n",
       "                                  &#x27;Air conditioning, refrigeration, and warm &#x27;\n",
       "                                  &#x27;air heating equipment manufacturing&#x27;,\n",
       "                                  &#x27;Air purification...\n",
       "                                  &#x27;All other textile product mills&#x27;,\n",
       "                                  &#x27;All other transportation equipment &#x27;\n",
       "                                  &#x27;manufacturing&#x27;,\n",
       "                                  &#x27;Alumina refining and primary aluminum &#x27;\n",
       "                                  &#x27;production&#x27;,\n",
       "                                  &#x27;Aluminum product manufacturing from &#x27;\n",
       "                                  &#x27;purchased aluminum&#x27;,\n",
       "                                  &#x27;Ammunition manufacturing&#x27;,\n",
       "                                  &#x27;Amusement parks, arcades, and gambling &#x27;\n",
       "                                  &#x27;industries&#x27;,\n",
       "                                  &#x27;Analytical laboratory instrument &#x27;\n",
       "                                  &#x27;manufacturing&#x27;, ...]),\n",
       "                                (&#x27;cat_tr&#x27;,\n",
       "                                 OneHotEncoder(handle_unknown=&#x27;ignore&#x27;),\n",
       "                                 [&#x27;Sector&#x27;])])</pre><b>In a Jupyter environment, please rerun this cell to show the HTML representation or trust the notebook. <br />On GitHub, the HTML representation is unable to render, please try loading this page with nbviewer.org.</b></div><div class=\"sk-container\" hidden><div class=\"sk-item sk-dashed-wrapped\"><div class=\"sk-label-container\"><div class=\"sk-label sk-toggleable\"><input class=\"sk-toggleable__control sk-hidden--visually\" id=\"sk-estimator-id-1\" type=\"checkbox\" ><label for=\"sk-estimator-id-1\" class=\"sk-toggleable__label sk-toggleable__label-arrow\">ColumnTransformer</label><div class=\"sk-toggleable__content\"><pre>ColumnTransformer(sparse_threshold=0,\n",
       "                  transformers=[(&#x27;num_tr&#x27;, MinMaxScaler(),\n",
       "                                 [&#x27;Abrasive product manufacturing&#x27;,\n",
       "                                  &#x27;Accounting, tax preparation, bookkeeping, &#x27;\n",
       "                                  &#x27;and payroll services&#x27;,\n",
       "                                  &#x27;Adhesive manufacturing&#x27;,\n",
       "                                  &#x27;Advertising and related services&#x27;,\n",
       "                                  &#x27;Air and gas compressor manufacturing&#x27;,\n",
       "                                  &#x27;Air conditioning, refrigeration, and warm &#x27;\n",
       "                                  &#x27;air heating equipment manufacturing&#x27;,\n",
       "                                  &#x27;Air purification...\n",
       "                                  &#x27;All other textile product mills&#x27;,\n",
       "                                  &#x27;All other transportation equipment &#x27;\n",
       "                                  &#x27;manufacturing&#x27;,\n",
       "                                  &#x27;Alumina refining and primary aluminum &#x27;\n",
       "                                  &#x27;production&#x27;,\n",
       "                                  &#x27;Aluminum product manufacturing from &#x27;\n",
       "                                  &#x27;purchased aluminum&#x27;,\n",
       "                                  &#x27;Ammunition manufacturing&#x27;,\n",
       "                                  &#x27;Amusement parks, arcades, and gambling &#x27;\n",
       "                                  &#x27;industries&#x27;,\n",
       "                                  &#x27;Analytical laboratory instrument &#x27;\n",
       "                                  &#x27;manufacturing&#x27;, ...]),\n",
       "                                (&#x27;cat_tr&#x27;,\n",
       "                                 OneHotEncoder(handle_unknown=&#x27;ignore&#x27;),\n",
       "                                 [&#x27;Sector&#x27;])])</pre></div></div></div><div class=\"sk-parallel\"><div class=\"sk-parallel-item\"><div class=\"sk-item\"><div class=\"sk-label-container\"><div class=\"sk-label sk-toggleable\"><input class=\"sk-toggleable__control sk-hidden--visually\" id=\"sk-estimator-id-2\" type=\"checkbox\" ><label for=\"sk-estimator-id-2\" class=\"sk-toggleable__label sk-toggleable__label-arrow\">num_tr</label><div class=\"sk-toggleable__content\"><pre>[&#x27;Abrasive product manufacturing&#x27;, &#x27;Accounting, tax preparation, bookkeeping, and payroll services&#x27;, &#x27;Adhesive manufacturing&#x27;, &#x27;Advertising and related services&#x27;, &#x27;Air and gas compressor manufacturing&#x27;, &#x27;Air conditioning, refrigeration, and warm air heating equipment manufacturing&#x27;, &#x27;Air purification and ventilation equipment manufacturing&#x27;, &#x27;Air transportation&#x27;, &#x27;Aircraft engine and engine parts manufacturing&#x27;, &#x27;Aircraft manufacturing&#x27;, &#x27;Alkalies and chlorine manufacturing&#x27;, &#x27;All other basic inorganic chemical manufacturing&#x27;, &#x27;All other chemical product and preparation manufacturing&#x27;, &#x27;All other converted paper product manufacturing&#x27;, &#x27;All other crop farming&#x27;, &#x27;All other food manufacturing&#x27;, &#x27;All other forging, stamping, and sintering&#x27;, &#x27;All other miscellaneous electrical equipment and component manufacturing&#x27;, &#x27;All other miscellaneous manufacturing&#x27;, &#x27;All other miscellaneous professional, scientific, and technical services&#x27;, &#x27;All other miscellaneous wood product manufacturing&#x27;, &#x27;All other paper bag and coated and treated paper manufacturing&#x27;, &#x27;All other petroleum and coal products manufacturing&#x27;, &#x27;All other textile product mills&#x27;, &#x27;All other transportation equipment manufacturing&#x27;, &#x27;Alumina refining and primary aluminum production&#x27;, &#x27;Aluminum product manufacturing from purchased aluminum&#x27;, &#x27;Ammunition manufacturing&#x27;, &#x27;Amusement parks, arcades, and gambling industries&#x27;, &#x27;Analytical laboratory instrument manufacturing&#x27;, &#x27;Animal (except poultry) slaughtering, rendering, and processing&#x27;, &#x27;Animal production, except cattle and poultry and eggs&#x27;, &#x27;Apparel accessories and other apparel manufacturing&#x27;, &#x27;Apparel knitting mills&#x27;, &#x27;Apparel, Piece Goods, and Notions Wholesalers&#x27;, &#x27;Architectural, engineering, and related services&#x27;, &#x27;Arms, ordnance, and accessories manufacturing&#x27;, &#x27;Artificial and synthetic fibers and filaments manufacturing&#x27;, &#x27;Asphalt paving mixture and block manufacturing&#x27;, &#x27;Asphalt shingle and coating materials manufacturing&#x27;, &#x27;Audio and video equipment manufacturing&#x27;, &#x27;Automatic environmental control manufacturing&#x27;, &#x27;Automobile manufacturing&#x27;, &#x27;Automotive equipment rental and leasing&#x27;, &#x27;Automotive repair and maintenance, except car washes&#x27;, &#x27;Ball and roller bearing manufacturing&#x27;, &#x27;Bare printed circuit board manufacturing&#x27;, &#x27;Bauxite Mining&#x27;, &#x27;Beet sugar manufacturing&#x27;, &#x27;Biological product (except diagnostic) manufacturing&#x27;, &#x27;Biomass Power Generation&#x27;, &#x27;Bituminous Coal Underground Mining&#x27;, &#x27;Bituminous Coal and Lignite Surface Mining&#x27;, &#x27;Blind and shade manufacturing&#x27;, &#x27;Boat building&#x27;, &#x27;Book publishers&#x27;, &#x27;Bowling centers&#x27;, &#x27;Bread and bakery product manufacturing&#x27;, &#x27;Breakfast cereal manufacturing&#x27;, &#x27;Breweries&#x27;, &#x27;Brick, tile, and other structural clay product manufacturing&#x27;, &#x27;Broadcast and wireless communications equipment&#x27;, &#x27;Broadwoven fabric mills&#x27;, &#x27;Broom, brush, and mop manufacturing&#x27;, &#x27;Building Material and Garden Equipment and Supplies Dealers&#x27;, &#x27;Business support services&#x27;, &#x27;Cable and other subscription programming&#x27;, &#x27;Car washes&#x27;, &#x27;Carbon and graphite product manufacturing&#x27;, &#x27;Carbon black manufacturing&#x27;, &#x27;Carpet and rug mills&#x27;, &#x27;Cattle ranching and farming&#x27;, &#x27;Cement manufacturing&#x27;, &#x27;Cheese manufacturing&#x27;, &#x27;Child day care services&#x27;, &#x27;Chocolate and confectionery manufacturing from cacao beans&#x27;, &#x27;Clay and nonclay refractory manufacturing&#x27;, &#x27;Clothing and Clothing Accessories Stores&#x27;, &#x27;Coal Power Generation&#x27;, &#x27;Coated and laminated paper, packaging paper and plastics film manufacturing&#x27;, &#x27;Coating, engraving, heat treating and allied activities&#x27;, &#x27;Coffee and tea manufacturing&#x27;, &#x27;Commercial and industrial machinery and equipment rental and leasing&#x27;, &#x27;Commercial and industrial machinery and equipment repair and maintenance&#x27;, &#x27;Communication and energy wire and cable manufacturing&#x27;, &#x27;Community food, housing, and other relief services, including rehabilitation services&#x27;, &#x27;Computer storage device manufacturing&#x27;, &#x27;Computer systems design services&#x27;, &#x27;Computer terminals and other computer peripheral equipment manufacturing&#x27;, &#x27;Concrete pipe, brick, and block manufacturing&#x27;, &#x27;Confectionery manufacturing from purchased chocolate&#x27;, &#x27;Construction machinery manufacturing&#x27;, &#x27;Cookie, cracker, and pasta manufacturing&#x27;, &#x27;Copper Mining&#x27;, &#x27;Copper rolling, drawing, extruding and alloying&#x27;, &#x27;Cotton farming&#x27;, &#x27;Couriers and messengers&#x27;, &#x27;Crown and closure manufacturing and metal stamping&#x27;, &#x27;Crude Petroleum and Natural Gas Extraction&#x27;, &#x27;Curtain and linen mills&#x27;, &#x27;Custom architectural woodwork and millwork manufacturing&#x27;, &#x27;Custom computer programming services&#x27;, &#x27;Cut and sew apparel contractors&#x27;, &#x27;Cut stone and stone product manufacturing&#x27;, &#x27;Cutlery, utensil, pot, and pan manufacturing&#x27;, &#x27;Cutting tool and machine tool accessory manufacturing&#x27;, &#x27;Dairy cattle and milk production&#x27;, &#x27;Data processing, hosting, and related services&#x27;, &#x27;Death care services&#x27;, &#x27;Dental equipment and supplies manufacturing&#x27;, &#x27;Directory, mailing list, and other publishers&#x27;, &#x27;Distilleries&#x27;, &#x27;Dog and cat food manufacturing&#x27;, &#x27;Doll, toy, and game manufacturing&#x27;, &#x27;Drilling oil and gas wells&#x27;, &#x27;Dry, condensed, and evaporated dairy product manufacturing&#x27;, &#x27;Dry-cleaning and laundry services&#x27;, &#x27;EV / Revenue&#x27;, &#x27;Electric Bulk Power Transmission and Control&#x27;, &#x27;Electric Power Distribution&#x27;, &#x27;Electric lamp bulb and part manufacturing&#x27;, &#x27;Electrical and Electronic Goods Wholesalers&#x27;, &#x27;Electricity and signal testing instruments manufacturing&#x27;, &#x27;Electromedical and electrotherapeutic apparatus manufacturing&#x27;, &#x27;Electron tube manufacturing&#x27;, &#x27;Electronic and precision equipment repair and maintenance&#x27;, &#x27;Electronic capacitor, resistor, coil, transformer, and other inductor manufacturing&#x27;, &#x27;Electronic computer manufacturing&#x27;, &#x27;Electronic connector manufacturing&#x27;, &#x27;Electronics and Appliance Stores&#x27;, &#x27;Elementary and secondary schools&#x27;, &#x27;Employees / Revenue&#x27;, &#x27;Employment services&#x27;, &#x27;Engineered wood member and truss manufacturing&#x27;, &#x27;Environmental and other technical consulting services&#x27;, &#x27;Fabric coating mills&#x27;, &#x27;Fabricated pipe and pipe fitting manufacturing&#x27;, &#x27;Facilities support services&#x27;, &#x27;Farm machinery and equipment manufacturing&#x27;, &#x27;Fats and oils refining and blending&#x27;, &#x27;Ferrous metal foundries&#x27;, &#x27;Fertilizer manufacturing&#x27;, &#x27;Fiber, yarn, and thread mills&#x27;, &#x27;Fishing&#x27;, &#x27;Fitness and recreational sports centers&#x27;, &#x27;Flat glass manufacturing&#x27;, &#x27;Flavoring syrup and concentrate manufacturing&#x27;, &#x27;Flour milling and malt manufacturing&#x27;, &#x27;Fluid milk and butter manufacturing&#x27;, &#x27;Fluid power process machinery&#x27;, &#x27;Food services and drinking places&#x27;, &#x27;Food, Beverage, Health, and Personal Care Stores&#x27;, &#x27;Footwear manufacturing&#x27;, &#x27;Forest nurseries, forest products, and timber tracts&#x27;, &#x27;Frozen food manufacturing&#x27;, &#x27;Fruit and vegetable canning, pickling, and drying&#x27;, &#x27;Fruit farming&#x27;, &#x27;Funds, trusts, and other financial vehicles&#x27;, &#x27;Furniture and Home Furnishings Stores&#x27;, &#x27;Gasket, packing, and sealing device manufacturing&#x27;, &#x27;Gasoline Stations&#x27;, &#x27;General Merchandise Stores&#x27;, &#x27;General and consumer goods rental except video tapes and discs&#x27;, &#x27;Geothermal Power Generation&#x27;, &#x27;Glass container manufacturing&#x27;, &#x27;Glass product manufacturing made of purchased glass&#x27;, &#x27;Gold Ore Mining&#x27;, &#x27;Grain farming&#x27;, &#x27;Grantmaking, giving, and social advocacy organizations&#x27;, &#x27;Greenhouse, nursery, and floriculture production&#x27;, &#x27;Grocery and Related Product Wholesalers&#x27;, &#x27;Ground or treated mineral and earth manufacturing&#x27;, &#x27;Guided missile and space vehicle manufacturing&#x27;, &#x27;Handtool manufacturing&#x27;, &#x27;Hardware manufacturing&#x27;, &#x27;Heating equipment (except warm air furnaces) manufacturing&#x27;, &#x27;Heavy duty truck manufacturing&#x27;, &#x27;Home health care services&#x27;, &#x27;Hospitals&#x27;, &#x27;Hotels and motels, including casino hotels&#x27;, &#x27;Household cooking appliance manufacturing&#x27;, &#x27;Household laundry equipment manufacturing&#x27;, &#x27;Household refrigerator and home freezer manufacturing&#x27;, &#x27;Hydroelectric Power Generation&#x27;, &#x27;Ice cream and frozen dessert manufacturing&#x27;, &#x27;In-vitro diagnostic substance manufacturing&#x27;, &#x27;Independent artists, writers, and performers&#x27;, &#x27;Individual and family services&#x27;, &#x27;Industrial gas manufacturing&#x27;, &#x27;Industrial mold manufacturing&#x27;, &#x27;Industrial process furnace and oven manufacturing&#x27;, &#x27;Industrial process variable instruments manufacturing&#x27;, &#x27;Institutional furniture manufacturing&#x27;, &#x27;Insurance agencies, brokerages, and related activities&#x27;, &#x27;Insurance carriers&#x27;, &#x27;Internet publishing and broadcasting&#x27;, &#x27;Internet service providers and web search portals&#x27;, &#x27;Investigation and security services&#x27;, &#x27;Iron and steel mills and ferroalloy manufacturing&#x27;, &#x27;Iron ore mining&#x27;, &#x27;Irradiation apparatus manufacturing&#x27;, &#x27;Jewelry and silverware manufacturing&#x27;, &#x27;Junior colleges, colleges, universities, and professional schools&#x27;, &#x27;Knit fabric mills&#x27;, &#x27;Laminated plastics plate, sheet (except packaging), and shape manufacturing&#x27;, &#x27;Landfill Gas Power Generation&#x27;, &#x27;Lawn and garden equipment manufacturing&#x27;, &#x27;Lead Ore and Zinc Ore Mining&#x27;, &#x27;Leather and hide tanning and finishing&#x27;, &#x27;Legal services&#x27;, &#x27;Lessors of nonfinancial intangible assets&#x27;, &#x27;Light truck and utility vehicle manufacturing&#x27;, &#x27;Lighting fixture manufacturing&#x27;, &#x27;Lime and gypsum product manufacturing&#x27;, &#x27;Logging&#x27;, &#x27;Lumber and Other Construction Materials Wholesalers&#x27;, &#x27;Magnetic and optical recording media manufacturing&#x27;, &#x27;Management of companies and enterprises&#x27;, &#x27;Management, scientific, and technical consulting services&#x27;, &#x27;Manufactured home (mobile home) manufacturing&#x27;, &#x27;Material handling equipment manufacturing&#x27;, &#x27;Mattress manufacturing&#x27;, &#x27;Mechanical power transmission equipment manufacturing&#x27;, &#x27;Medical and diagnostic labs and outpatient and other ambulatory care services&#x27;, &#x27;Medicinal and botanical manufacturing&#x27;, &quot;Men&#x27;s and boys&#x27; cut and sew apparel manufacturing&quot;, &#x27;Metal and other household furniture manufacturing&#x27;, &#x27;Metal can, box, and other metal container (light gauge) manufacturing&#x27;, &#x27;Metal cutting and forming machine tool manufacturing&#x27;, &#x27;Metal tank (heavy gauge) manufacturing&#x27;, &#x27;Military armored vehicle, tank, and tank component manufacturing&#x27;, &#x27;Mineral wool manufacturing&#x27;, &#x27;Mining and oil and gas field machinery manufacturing&#x27;, &#x27;Miscellaneous Durable Goods Wholesalers&#x27;, &#x27;Miscellaneous Nondurable Goods Wholesalers&#x27;, &#x27;Miscellaneous Store Retailers&#x27;, &#x27;Miscellaneous nonmetallic mineral products&#x27;, &#x27;Monetary authorities and depository credit intermediation&#x27;, &#x27;Motion picture and video industries&#x27;, &#x27;Motor Vehicle and Machinery, Equipment, and Supplies Wholesalers&#x27;, &#x27;Motor Vehicle and Parts Dealers&#x27;, &#x27;Motor and generator manufacturing&#x27;, &#x27;Motor home manufacturing&#x27;, &#x27;Motor vehicle body manufacturing&#x27;, &#x27;Motor vehicle parts manufacturing&#x27;, &#x27;Motorcycle, bicycle, and parts manufacturing&#x27;, &#x27;Museums, historical sites, zoos, and parks&#x27;, &#x27;Musical instrument manufacturing&#x27;, &#x27;Narrow fabric mills and schiffli machine embroidery&#x27;, &#x27;Natural Gas Liquid Extraction&#x27;, &#x27;Natural Gas Power Generation&#x27;, &#x27;Natural gas distribution&#x27;, &#x27;Newspaper publishers&#x27;, &#x27;Nickel Mining&#x27;, &#x27;Nonchocolate confectionery manufacturing&#x27;, &#x27;Nondepository credit intermediation and related activities&#x27;, &#x27;Nonferrous metal (except copper and aluminum) rolling, drawing, extruding and alloying&#x27;, &#x27;Nonferrous metal foundries&#x27;, &#x27;Nonresidential commercial and health care structures&#x27;, &#x27;Nonresidential maintenance and repair&#x27;, &#x27;Nonresidential manufacturing structures&#x27;, &#x27;Nonstore Retailers&#x27;, &#x27;Nonupholstered wood household furniture manufacturing&#x27;, &#x27;Nonwoven fabric mills&#x27;, &#x27;Nuclear Electric Power Generation&#x27;, &#x27;Nursing and residential care facilities&#x27;, &#x27;Office administrative services&#x27;, &#x27;Office furniture manufacturing&#x27;, &#x27;Office supplies (except paper) manufacturing&#x27;, &#x27;Offices of physicians, dentists, and other health practitioners&#x27;, &#x27;Oilseed farming&#x27;, &#x27;Ophthalmic goods manufacturing&#x27;, &#x27;Optical instrument and lens manufacturing&#x27;, &#x27;Ornamental and architectural metal products manufacturing&#x27;, &#x27;Other Electric Power Generation&#x27;, &#x27;Other Metal Ore Mining&#x27;, &#x27;Other accommodations&#x27;, &#x27;Other aircraft parts and auxiliary equipment manufacturing&#x27;, &#x27;Other amusement and recreation industries&#x27;, &#x27;Other animal food manufacturing&#x27;, &#x27;Other basic organic chemical manufacturing&#x27;, &#x27;Other commercial and service industry machinery manufacturing&#x27;, &#x27;Other communications equipment manufacturing&#x27;, &#x27;Other computer related services, including facilities management&#x27;, &#x27;Other concrete product manufacturing&#x27;, &#x27;Other cut and sew apparel manufacturing&#x27;, &#x27;Other educational services&#x27;, &#x27;Other electronic component manufacturing&#x27;, &#x27;Other engine equipment manufacturing&#x27;, &#x27;Other fabricated metal manufacturing&#x27;, &#x27;Other general purpose machinery manufacturing&#x27;, &#x27;Other industrial machinery manufacturing&#x27;, &#x27;Other information services&#x27;, &#x27;Other leather and allied product manufacturing&#x27;, &#x27;Other major household appliance manufacturing&#x27;, &#x27;Other nonmetallic mineral mining and quarrying&#x27;, &#x27;Other nonresidential structures&#x27;, &#x27;Other personal services&#x27;, &#x27;Other plastics product manufacturing&#x27;, &#x27;Other pressed and blown glass and glassware manufacturing&#x27;, &#x27;Other residential structures&#x27;, &#x27;Other rubber product manufacturing&#x27;, &#x27;Other support services&#x27;, &#x27;Packaging machinery manufacturing&#x27;, &#x27;Paint and coating manufacturing&#x27;, &#x27;Paper mills&#x27;, &#x27;Paperboard Mills&#x27;, &#x27;Paperboard container manufacturing&#x27;, &#x27;Performing arts companies&#x27;, &#x27;Periodical publishers&#x27;, &#x27;Personal and household goods repair and maintenance&#x27;, &#x27;Personal care services&#x27;, &#x27;Pesticide and other agricultural chemical manufacturing&#x27;, &#x27;Petrochemical manufacturing&#x27;, &#x27;Petroleum Power Generation&#x27;, &#x27;Petroleum lubricating oil and grease manufacturing&#x27;, &#x27;Petroleum refineries&#x27;, &#x27;Petroleum, Chemical, and Allied Products Wholesalers&#x27;, &#x27;Pharmaceutical preparation manufacturing&#x27;, &#x27;Photographic and photocopying equipment manufacturing&#x27;, &#x27;Photographic services&#x27;, &#x27;Pipeline transportation&#x27;, &#x27;Plastics and rubber industry machinery manufacturing&#x27;, &#x27;Plastics bottle manufacturing&#x27;, &#x27;Plastics material and resin manufacturing&#x27;, &#x27;Plastics packaging materials and unlaminated film and sheet manufacturing&#x27;, &#x27;Plastics pipe and pipe fitting manufacturing&#x27;, &#x27;Plate work and fabricated structural product manufacturing&#x27;, &#x27;Plumbing fixture fitting and trim manufacturing&#x27;, &#x27;Polystyrene foam product manufacturing&#x27;, &#x27;Postal service&#x27;, &#x27;Pottery, ceramics, and plumbing fixture manufacturing&#x27;, &#x27;Poultry and egg production&#x27;, &#x27;Poultry processing&#x27;, &#x27;Power boiler and heat exchanger manufacturing&#x27;, &#x27;Power, distribution, and specialty transformer manufacturing&#x27;, &#x27;Power-driven handtool manufacturing&#x27;, &#x27;Prefabricated wood building manufacturing&#x27;, &#x27;Primary battery manufacturing&#x27;, &#x27;Primary smelting and refining of copper&#x27;, &#x27;Primary smelting and refining of nonferrous metal (except copper and aluminum)&#x27;, &#x27;Printed circuit assembly (electronic assembly) manufacturing&#x27;, &#x27;Printing&#x27;, &#x27;Printing ink manufacturing&#x27;, &#x27;Promoters of performing arts and sports and agents for public figures&#x27;, &#x27;Propulsion units and parts for space vehicles and guided missiles&#x27;, &#x27;Pulp mills&#x27;, &#x27;Pump and pumping equipment manufacturing&#x27;, &#x27;Radio and television broadcasting&#x27;, &#x27;Rail transportation (Diesel)&#x27;, &#x27;Rail transportation (Electric)&#x27;, &#x27;Railroad rolling stock manufacturing&#x27;, &#x27;Ready-mix concrete manufacturing&#x27;, &#x27;Real estate&#x27;, &#x27;Reconstituted wood product manufacturing&#x27;, &#x27;Relay and industrial control manufacturing&#x27;, &#x27;Residential maintenance and repair&#x27;, &#x27;Residential permanent site single- and multi-family structures&#x27;, &#x27;Rolling mill and other metalworking machinery manufacturing&#x27;, &#x27;Rubber and plastics hoses and belting manufacturing&#x27;, &#x27;Sand, gravel, clay, and ceramic and refractory minerals mining and quarrying&#x27;, &#x27;Sanitary paper product manufacturing&#x27;, &#x27;Sawmills and wood preservation&#x27;, &#x27;Scientific research and development services&#x27;, &#x27;Seafood product preparation and packaging&#x27;, &#x27;Search, detection, and navigation instruments manufacturing&#x27;, &#x27;Seasoning and dressing manufacturing&#x27;, &#x27;Secondary smelting and alloying of aluminum&#x27;, &#x27;Securities, commodity contracts, investments, and related activities&#x27;, &#x27;Semiconductor and related device manufacturing&#x27;, &#x27;Semiconductor machinery manufacturing&#x27;, &#x27;Services to buildings and dwellings&#x27;, &#x27;Ship building and repairing&#x27;, &#x27;Showcase, partition, shelving, and locker manufacturing&#x27;, &#x27;Sign manufacturing&#x27;, &#x27;Small electrical appliance manufacturing&#x27;, &#x27;Snack food manufacturing&#x27;, &#x27;Soap and cleaning compound manufacturing&#x27;, &#x27;Soft drink and ice manufacturing&#x27;, &#x27;Software publishers&#x27;, &#x27;Software, audio, and video media reproducing&#x27;, &#x27;Solar Power Generation&#x27;, &#x27;Sound recording industries&#x27;, &#x27;Soybean and other oilseed processing&#x27;, &#x27;Special tool, die, jig, and fixture manufacturing&#x27;, &#x27;Specialized design services&#x27;, &#x27;Spectator sports&#x27;, &#x27;Speed changer, industrial high-speed drive, and gear manufacturing&#x27;, &#x27;Sporting and athletic goods manufacturing&#x27;, &#x27;Spring and wire product manufacturing&#x27;, &#x27;Stationery product manufacturing&#x27;, &#x27;Steel product manufacturing from purchased steel&#x27;, &#x27;Stone mining and quarrying&#x27;, &#x27;Storage battery manufacturing&#x27;, &#x27;Sugar cane mills and refining&#x27;, &#x27;Sugarcane and sugar beet farming&#x27;, &#x27;Support activities for agriculture and forestry&#x27;, &#x27;Support activities for oil and gas operations&#x27;, &#x27;Support activities for other mining&#x27;, &#x27;Support activities for printing&#x27;, &#x27;Support activities for transportation&#x27;, &#x27;Surgical and medical instrument manufacturing&#x27;, &#x27;Surgical appliance and supplies manufacturing&#x27;, &#x27;Switchgear and switchboard apparatus manufacturing&#x27;, &#x27;Synthetic dye and pigment manufacturing&#x27;, &#x27;Synthetic rubber manufacturing&#x27;, &#x27;Tar Sands Extraction&#x27;, &#x27;Telecommunications&#x27;, &#x27;Telephone apparatus manufacturing&#x27;, &#x27;Textile and fabric finishing mills&#x27;, &#x27;Textile bag and canvas mills&#x27;, &#x27;Tire manufacturing&#x27;, &#x27;Tobacco product manufacturing&#x27;, &#x27;Toilet preparation manufacturing&#x27;, &#x27;Totalizing fluid meters and counting devices manufacturing&#x27;, &#x27;Transit and ground passenger transportation&#x27;, &#x27;Travel arrangement and reservation services&#x27;, &#x27;Travel trailer and camper manufacturing&#x27;, &#x27;Tree nut farming&#x27;, &#x27;Truck trailer manufacturing&#x27;, &#x27;Truck transportation&#x27;, &#x27;Turbine and turbine generator set units manufacturing&#x27;, &#x27;Turned product and screw, nut, and bolt manufacturing&#x27;, &#x27;Unlaminated plastics profile shape manufacturing&#x27;, &#x27;Upholstered household furniture manufacturing&#x27;, &#x27;Uranium-Radium-Vanadium Ore Mining&#x27;, &#x27;Urethane and other foam product (except polystyrene) manufacturing&#x27;, &#x27;Valve and fittings other than plumbing&#x27;, &#x27;Vegetable and melon farming&#x27;, &#x27;Vending, commercial, industrial, and office machinery manufacturing&#x27;, &#x27;Veneer and plywood manufacturing&#x27;, &#x27;Veterinary services&#x27;, &#x27;Warehousing and storage&#x27;, &#x27;Waste management and remediation services&#x27;, &#x27;Watch, clock, and other measuring and controlling device manufacturing&#x27;, &#x27;Water transportation&#x27;, &#x27;Water, sewage and other systems&#x27;, &#x27;Wave &amp; Tidal Power Generation&#x27;, &#x27;Wet corn milling&#x27;, &#x27;Wind Power Generation&#x27;, &#x27;Wineries&#x27;, &#x27;Wiring device manufacturing&#x27;, &quot;Women&#x27;s and girls&#x27; cut and sew apparel manufacturing&quot;, &#x27;Wood container and pallet manufacturing&#x27;, &#x27;Wood kitchen cabinet and countertop manufacturing&#x27;, &#x27;Wood windows and doors and millwork&#x27;, &#x27;arctic_drilling_percentage_revenue&#x27;, &#x27;climate_strategy_score&#x27;, &#x27;coal_percentage_revenue&#x27;, &#x27;disclosure&#x27;, &#x27;nuclear_percentage_revenue&#x27;, &#x27;oil_sands_percentage_revenue&#x27;, &#x27;pe_rat&#x27;, &#x27;revenue&#x27;, &#x27;shale_oil_gas_percentage_revenue&#x27;, &#x27;thermal_coal_percentage_revenue&#x27;, &#x27;ultra_deep_sea_drilling_percentage_revenue&#x27;]</pre></div></div></div><div class=\"sk-serial\"><div class=\"sk-item\"><div class=\"sk-estimator sk-toggleable\"><input class=\"sk-toggleable__control sk-hidden--visually\" id=\"sk-estimator-id-3\" type=\"checkbox\" ><label for=\"sk-estimator-id-3\" class=\"sk-toggleable__label sk-toggleable__label-arrow\">MinMaxScaler</label><div class=\"sk-toggleable__content\"><pre>MinMaxScaler()</pre></div></div></div></div></div></div><div class=\"sk-parallel-item\"><div class=\"sk-item\"><div class=\"sk-label-container\"><div class=\"sk-label sk-toggleable\"><input class=\"sk-toggleable__control sk-hidden--visually\" id=\"sk-estimator-id-4\" type=\"checkbox\" ><label for=\"sk-estimator-id-4\" class=\"sk-toggleable__label sk-toggleable__label-arrow\">cat_tr</label><div class=\"sk-toggleable__content\"><pre>[&#x27;Sector&#x27;]</pre></div></div></div><div class=\"sk-serial\"><div class=\"sk-item\"><div class=\"sk-estimator sk-toggleable\"><input class=\"sk-toggleable__control sk-hidden--visually\" id=\"sk-estimator-id-5\" type=\"checkbox\" ><label for=\"sk-estimator-id-5\" class=\"sk-toggleable__label sk-toggleable__label-arrow\">OneHotEncoder</label><div class=\"sk-toggleable__content\"><pre>OneHotEncoder(handle_unknown=&#x27;ignore&#x27;)</pre></div></div></div></div></div></div></div></div></div></div>"
      ],
      "text/plain": [
       "ColumnTransformer(sparse_threshold=0,\n",
       "                  transformers=[('num_tr', MinMaxScaler(),\n",
       "                                 ['Abrasive product manufacturing',\n",
       "                                  'Accounting, tax preparation, bookkeeping, '\n",
       "                                  'and payroll services',\n",
       "                                  'Adhesive manufacturing',\n",
       "                                  'Advertising and related services',\n",
       "                                  'Air and gas compressor manufacturing',\n",
       "                                  'Air conditioning, refrigeration, and warm '\n",
       "                                  'air heating equipment manufacturing',\n",
       "                                  'Air purification...\n",
       "                                  'All other textile product mills',\n",
       "                                  'All other transportation equipment '\n",
       "                                  'manufacturing',\n",
       "                                  'Alumina refining and primary aluminum '\n",
       "                                  'production',\n",
       "                                  'Aluminum product manufacturing from '\n",
       "                                  'purchased aluminum',\n",
       "                                  'Ammunition manufacturing',\n",
       "                                  'Amusement parks, arcades, and gambling '\n",
       "                                  'industries',\n",
       "                                  'Analytical laboratory instrument '\n",
       "                                  'manufacturing', ...]),\n",
       "                                ('cat_tr',\n",
       "                                 OneHotEncoder(handle_unknown='ignore'),\n",
       "                                 ['Sector'])])"
      ]
     },
     "execution_count": 6,
     "metadata": {},
     "output_type": "execute_result"
    }
   ],
   "source": [
    "num_col = sorted(X.select_dtypes(include=[\"int64\", \"float64\"]).columns)\n",
    "cat_col = sorted(list(set(X.columns) - set(num_col)))\n",
    "\n",
    "\n",
    "num_transformer = MinMaxScaler()\n",
    "cat_transformer = OneHotEncoder(handle_unknown='ignore')\n",
    "preprocessor = ColumnTransformer([\n",
    "    ('num_tr', num_transformer, num_col),\n",
    "    ('cat_tr', cat_transformer, cat_col)\n",
    "],\n",
    "sparse_threshold=0)\n",
    "preprocessor"
   ]
  },
  {
   "cell_type": "code",
   "execution_count": 7,
   "id": "6898bbd7",
   "metadata": {},
   "outputs": [],
   "source": [
    "X_train, X_test, y_train, y_test = train_test_split(X,y, test_size=0.3)\n",
    "X_train_transformed = preprocessor.fit_transform(X_train)\n",
    "X_test_transformed = preprocessor.transform(X_test)"
   ]
  },
  {
   "cell_type": "code",
   "execution_count": 8,
   "id": "9f8c4191",
   "metadata": {},
   "outputs": [],
   "source": [
    "# def algorithm_pipeline(X_train_data, X_test_data, y_train_data, y_test_data, \n",
    "#                        model, param_grid, cv=10, scoring_fit='neg_mean_absolute_percentage_error',\n",
    "#                        do_probabilities = False):\n",
    "#     gs = GridSearchCV(\n",
    "#         estimator=model,\n",
    "#         param_grid=param_grid, \n",
    "#         cv=cv, \n",
    "#         n_jobs=-1, \n",
    "#         scoring=scoring_fit,\n",
    "#         verbose=2\n",
    "#     )\n",
    "#     fitted_model = gs.fit(X_train_data, y_train_data)\n",
    "    \n",
    "#     if do_probabilities:\n",
    "#       pred = fitted_model.predict_proba(X_test_data)\n",
    "#     else:\n",
    "#       pred = fitted_model.predict(X_test_data)\n",
    "    \n",
    "#     return fitted_model, pred"
   ]
  },
  {
   "cell_type": "code",
   "execution_count": 9,
   "id": "14cd0ea6",
   "metadata": {},
   "outputs": [],
   "source": [
    "# model = XGBRegressor()\n",
    "# param_grid = {\n",
    "#     'n_estimators': [400, 700, 1000],\n",
    "# #     'colsample_bytree': [0.7, 0.8],\n",
    "#     'max_depth': [3,5,10],\n",
    "#     'reg_alpha': [1.1, 1.2, 1.3],\n",
    "#     'reg_lambda': [1.1, 1.2, 1.3],\n",
    "# #     'subsample': [0.7, 0.8, 0.9]\n",
    "# }\n",
    "\n",
    "# model, pred = algorithm_pipeline(X_train_transformed, X_test_transformed, y_train, y_test, model, \n",
    "#                                  param_grid, cv=5)\n",
    "\n",
    "# # Root Mean Squared Error\n",
    "# print(np.sqrt(-model.best_score_))\n",
    "# print(model.best_params_)"
   ]
  },
  {
   "cell_type": "code",
   "execution_count": 10,
   "id": "28d5d429",
   "metadata": {},
   "outputs": [
    {
     "data": {
      "text/plain": [
       "array([-27.83040243,  -2.47669294,  -2.62760644,  -1.96605891,\n",
       "        -2.35351845])"
      ]
     },
     "execution_count": 10,
     "metadata": {},
     "output_type": "execute_result"
    }
   ],
   "source": [
    "model = XGBRegressor(n_estimators=1500, max_depth=5, objective=\"reg:squarederror\", eval_metric=\"mape\")\n",
    "cross_val_score(model, X_train_transformed, y_train, cv=5, scoring=\"neg_mean_absolute_percentage_error\")"
   ]
  },
  {
   "cell_type": "code",
   "execution_count": 11,
   "id": "982d68cf",
   "metadata": {},
   "outputs": [
    {
     "data": {
      "text/plain": [
       "array([-5.2127186 , -0.76001598, -0.85013595, -1.16857824, -1.73363068])"
      ]
     },
     "execution_count": 11,
     "metadata": {},
     "output_type": "execute_result"
    }
   ],
   "source": [
    "model2 = XGBRegressor(n_estimators=1500, max_depth=10, objective=\"reg:squarederror\", eval_metric=\"mape\")\n",
    "cross_val_score(model2, X_train_transformed, y_train, cv=5, scoring=\"neg_mean_absolute_percentage_error\")"
   ]
  },
  {
   "cell_type": "code",
   "execution_count": null,
   "id": "78df4e54",
   "metadata": {},
   "outputs": [],
   "source": [
    "model3 = XGBRegressor(n_estimators=1500, max_depth=15, objective=\"reg:squarederror\", eval_metric=\"mape\")\n",
    "cross_val_score(model3, X_train_transformed, y_train, cv=5, scoring=\"neg_mean_absolute_percentage_error\")"
   ]
  },
  {
   "cell_type": "code",
   "execution_count": null,
   "id": "3c7a1ab9",
   "metadata": {},
   "outputs": [],
   "source": []
  }
 ],
 "metadata": {
  "kernelspec": {
   "display_name": "Python 3 (ipykernel)",
   "language": "python",
   "name": "python3"
  },
  "language_info": {
   "codemirror_mode": {
    "name": "ipython",
    "version": 3
   },
   "file_extension": ".py",
   "mimetype": "text/x-python",
   "name": "python",
   "nbconvert_exporter": "python",
   "pygments_lexer": "ipython3",
   "version": "3.8.12"
  },
  "toc": {
   "base_numbering": 1,
   "nav_menu": {},
   "number_sections": true,
   "sideBar": true,
   "skip_h1_title": false,
   "title_cell": "Table of Contents",
   "title_sidebar": "Contents",
   "toc_cell": false,
   "toc_position": {},
   "toc_section_display": true,
   "toc_window_display": false
  }
 },
 "nbformat": 4,
 "nbformat_minor": 5
}
