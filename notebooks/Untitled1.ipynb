{
 "cells": [
  {
   "cell_type": "code",
   "execution_count": 28,
   "id": "6d1c9374",
   "metadata": {
    "scrolled": true
   },
   "outputs": [
    {
     "name": "stdout",
     "output_type": "stream",
     "text": [
      "Reading data...\n",
      "Preproc on power % revenue\n",
      "Preproc on Sector Revenue\n",
      "Selecting the year 2013 required...\n",
      "Dropping rows that are showing NaN on...\n",
      "-> intensity_scope1CY2013\n",
      "-> intensity_scope2CY2013\n",
      "-> intensity_scope3CY2013\n",
      "-> Revenue2013\n",
      "Filling employee numbers with mean value... (subject to change later)\n",
      "Filling EV with mean value... (subject to change later)\n",
      "Calculating Employees & EV per Revenue...\n",
      "Filling null Climate Strategy Score with 0...\n",
      "Cleaning P/E Ratio...\n",
      "Adding Scope 1 and Scope 2 data together...\n",
      "Doing some column renaming...\n",
      "Dataset preproc-ed for the year 2013!👍\n",
      "Reading data...\n",
      "Preproc on power % revenue\n",
      "Preproc on Sector Revenue\n",
      "Selecting the year 2014 required...\n",
      "Dropping rows that are showing NaN on...\n",
      "-> intensity_scope1CY2014\n",
      "-> intensity_scope2CY2014\n",
      "-> intensity_scope3CY2014\n",
      "-> Revenue2014\n",
      "Filling employee numbers with mean value... (subject to change later)\n",
      "Filling EV with mean value... (subject to change later)\n",
      "Calculating Employees & EV per Revenue...\n",
      "Filling null Climate Strategy Score with 0...\n",
      "Cleaning P/E Ratio...\n",
      "Adding Scope 1 and Scope 2 data together...\n",
      "Doing some column renaming...\n",
      "Dataset preproc-ed for the year 2014!👍\n",
      "Reading data...\n",
      "Preproc on power % revenue\n",
      "Preproc on Sector Revenue\n",
      "Selecting the year 2015 required...\n",
      "Dropping rows that are showing NaN on...\n",
      "-> intensity_scope1CY2015\n",
      "-> intensity_scope2CY2015\n",
      "-> intensity_scope3CY2015\n",
      "-> Revenue2015\n",
      "Filling employee numbers with mean value... (subject to change later)\n",
      "Filling EV with mean value... (subject to change later)\n",
      "Calculating Employees & EV per Revenue...\n",
      "Filling null Climate Strategy Score with 0...\n",
      "Cleaning P/E Ratio...\n",
      "Adding Scope 1 and Scope 2 data together...\n",
      "Doing some column renaming...\n",
      "Dataset preproc-ed for the year 2015!👍\n",
      "Reading data...\n",
      "Preproc on power % revenue\n",
      "Preproc on Sector Revenue\n",
      "Selecting the year 2016 required...\n",
      "Dropping rows that are showing NaN on...\n",
      "-> intensity_scope1CY2016\n",
      "-> intensity_scope2CY2016\n",
      "-> intensity_scope3CY2016\n",
      "-> Revenue2016\n",
      "Filling employee numbers with mean value... (subject to change later)\n",
      "Filling EV with mean value... (subject to change later)\n",
      "Calculating Employees & EV per Revenue...\n",
      "Filling null Climate Strategy Score with 0...\n",
      "Cleaning P/E Ratio...\n",
      "Adding Scope 1 and Scope 2 data together...\n",
      "Doing some column renaming...\n",
      "Dataset preproc-ed for the year 2016!👍\n",
      "Reading data...\n",
      "Preproc on power % revenue\n",
      "Preproc on Sector Revenue\n",
      "Selecting the year 2017 required...\n",
      "Dropping rows that are showing NaN on...\n",
      "-> intensity_scope1CY2017\n",
      "-> intensity_scope2CY2017\n",
      "-> intensity_scope3CY2017\n",
      "-> Revenue2017\n",
      "Filling employee numbers with mean value... (subject to change later)\n",
      "Filling EV with mean value... (subject to change later)\n",
      "Calculating Employees & EV per Revenue...\n",
      "Filling null Climate Strategy Score with 0...\n",
      "Cleaning P/E Ratio...\n",
      "Adding Scope 1 and Scope 2 data together...\n",
      "Doing some column renaming...\n",
      "Dataset preproc-ed for the year 2017!👍\n",
      "Reading data...\n",
      "Preproc on power % revenue\n",
      "Preproc on Sector Revenue\n",
      "Selecting the year 2018 required...\n",
      "Dropping rows that are showing NaN on...\n",
      "-> intensity_scope1CY2018\n",
      "-> intensity_scope2CY2018\n",
      "-> intensity_scope3CY2018\n",
      "-> Revenue2018\n",
      "Filling employee numbers with mean value... (subject to change later)\n",
      "Filling EV with mean value... (subject to change later)\n",
      "Calculating Employees & EV per Revenue...\n",
      "Filling null Climate Strategy Score with 0...\n",
      "Cleaning P/E Ratio...\n",
      "Adding Scope 1 and Scope 2 data together...\n",
      "Doing some column renaming...\n",
      "Dataset preproc-ed for the year 2018!👍\n",
      "Reading data...\n",
      "Preproc on power % revenue\n",
      "Preproc on Sector Revenue\n",
      "Selecting the year 2019 required...\n",
      "Dropping rows that are showing NaN on...\n",
      "-> intensity_scope1CY2019\n",
      "-> intensity_scope2CY2019\n",
      "-> intensity_scope3CY2019\n",
      "-> Revenue2019\n",
      "Filling employee numbers with mean value... (subject to change later)\n",
      "Filling EV with mean value... (subject to change later)\n",
      "Calculating Employees & EV per Revenue...\n",
      "Filling null Climate Strategy Score with 0...\n",
      "Cleaning P/E Ratio...\n",
      "Adding Scope 1 and Scope 2 data together...\n",
      "Doing some column renaming...\n",
      "Dataset preproc-ed for the year 2019!👍\n",
      "Reading data...\n",
      "Preproc on power % revenue\n",
      "Preproc on Sector Revenue\n",
      "Selecting the year 2020 required...\n",
      "Dropping rows that are showing NaN on...\n",
      "-> intensity_scope1CY2020\n",
      "-> intensity_scope2CY2020\n",
      "-> intensity_scope3CY2020\n",
      "-> Revenue2020\n",
      "Filling employee numbers with mean value... (subject to change later)\n",
      "Filling EV with mean value... (subject to change later)\n",
      "Calculating Employees & EV per Revenue...\n",
      "Filling null Climate Strategy Score with 0...\n",
      "Cleaning P/E Ratio...\n",
      "Adding Scope 1 and Scope 2 data together...\n",
      "Doing some column renaming...\n",
      "Dataset preproc-ed for the year 2020!👍\n"
     ]
    }
   ],
   "source": [
    "import pickle\n",
    "import pandas as pd\n",
    "import numpy as np\n",
    "import matplotlib.pyplot as plt\n",
    "pd.set_option('display.max_columns', None)\n",
    "pd.options.display.max_info_columns=500\n",
    "pd.options.display.max_info_rows=550\n",
    "from tensorflow.keras.losses import mean_squared_error, mean_absolute_error, mean_absolute_percentage_error\n",
    "from tensorflow.keras.models import Sequential\n",
    "from tensorflow.keras.layers import Dense\n",
    "from sklearn.pipeline import Pipeline\n",
    "from sklearn.preprocessing import StandardScaler, OneHotEncoder, MinMaxScaler\n",
    "from sklearn.compose import ColumnTransformer\n",
    "from sklearn import set_config; set_config(display='diagram')\n",
    "from sklearn.model_selection import train_test_split, StratifiedKFold, RandomizedSearchCV, cross_val_score, GridSearchCV\n",
    "from xgboost import XGBRegressor, Booster\n",
    "\n",
    "from carbon_forecast.utils.preproc import load_n_preproc_all_avail\n",
    "df = load_n_preproc_all_avail()\n",
    "X = df.drop(columns=[\"company_name\", \"TCUID\", \"year\", \"intensity_1and2\",\"intensity_scope3\"])\n",
    "y = df[\"intensity_1and2\"]"
   ]
  },
  {
   "cell_type": "code",
   "execution_count": 2,
   "id": "ac0c0708",
   "metadata": {
    "scrolled": true
   },
   "outputs": [
    {
     "data": {
      "text/plain": [
       "(85099, 458)"
      ]
     },
     "execution_count": 2,
     "metadata": {},
     "output_type": "execute_result"
    }
   ],
   "source": [
    "X.shape"
   ]
  },
  {
   "cell_type": "code",
   "execution_count": 13,
   "id": "36bb68be",
   "metadata": {
    "scrolled": true
   },
   "outputs": [
    {
     "data": {
      "text/plain": [
       "Sector                                                  Consumer Staples\n",
       "Employees / Revenue                                             2.839109\n",
       "EV / Revenue                                                    3.235569\n",
       "climate_strategy_score                                              10.0\n",
       "disclosure                                                           0.0\n",
       "                                                              ...       \n",
       "Wiring device manufacturing                                          0.0\n",
       "Women's and girls' cut and sew apparel manufacturing                 0.0\n",
       "Wood container and pallet manufacturing                              0.0\n",
       "Wood kitchen cabinet and countertop manufacturing                    0.0\n",
       "Wood windows and doors and millwork                                  0.0\n",
       "Name: 8071, Length: 458, dtype: object"
      ]
     },
     "execution_count": 13,
     "metadata": {},
     "output_type": "execute_result"
    }
   ],
   "source": [
    "rdn = np.random.randint(0,85099)\n",
    "X_to_test = X.iloc[rdn,:]\n",
    "y_to_test = y.iloc[rdn]\n",
    "X_to_test"
   ]
  },
  {
   "cell_type": "code",
   "execution_count": 14,
   "id": "156a6008",
   "metadata": {},
   "outputs": [],
   "source": [
    "X_to_test.to_csv(\"X_to_test.csv\", index=False)"
   ]
  },
  {
   "cell_type": "code",
   "execution_count": 25,
   "id": "dee4c2db",
   "metadata": {},
   "outputs": [],
   "source": [
    "X_test2 = pd.read_csv(\"../tests/X_2.csv\")\n",
    "X_2 = np.array(X_test2).reshape(1,468)"
   ]
  },
  {
   "cell_type": "code",
   "execution_count": 26,
   "id": "04df0f47",
   "metadata": {},
   "outputs": [
    {
     "data": {
      "text/plain": [
       "array([5.641958], dtype=float32)"
      ]
     },
     "execution_count": 26,
     "metadata": {},
     "output_type": "execute_result"
    }
   ],
   "source": [
    "loaded = pickle.load(open(\"../tests/xgboost_loaded.pkl\", \"rb\"))\n",
    "loaded.predict(X_2)"
   ]
  },
  {
   "cell_type": "code",
   "execution_count": 44,
   "id": "b9a956e2",
   "metadata": {
    "scrolled": true
   },
   "outputs": [],
   "source": [
    "import xgboost as xgb\n",
    "model = xgb.Booster()\n",
    "testload = model.load_model(\"test.json\")"
   ]
  },
  {
   "cell_type": "code",
   "execution_count": 45,
   "id": "fc75b942",
   "metadata": {},
   "outputs": [
    {
     "data": {
      "text/plain": [
       "array([[0.00000000e+00, 0.00000000e+00, 0.00000000e+00, 0.00000000e+00,\n",
       "        0.00000000e+00, 0.00000000e+00, 0.00000000e+00, 0.00000000e+00,\n",
       "        0.00000000e+00, 0.00000000e+00, 0.00000000e+00, 0.00000000e+00,\n",
       "        0.00000000e+00, 0.00000000e+00, 0.00000000e+00, 0.00000000e+00,\n",
       "        0.00000000e+00, 0.00000000e+00, 0.00000000e+00, 0.00000000e+00,\n",
       "        0.00000000e+00, 0.00000000e+00, 0.00000000e+00, 0.00000000e+00,\n",
       "        0.00000000e+00, 0.00000000e+00, 0.00000000e+00, 0.00000000e+00,\n",
       "        0.00000000e+00, 0.00000000e+00, 0.00000000e+00, 0.00000000e+00,\n",
       "        0.00000000e+00, 0.00000000e+00, 0.00000000e+00, 0.00000000e+00,\n",
       "        0.00000000e+00, 0.00000000e+00, 0.00000000e+00, 0.00000000e+00,\n",
       "        0.00000000e+00, 0.00000000e+00, 0.00000000e+00, 0.00000000e+00,\n",
       "        0.00000000e+00, 0.00000000e+00, 0.00000000e+00, 0.00000000e+00,\n",
       "        0.00000000e+00, 0.00000000e+00, 0.00000000e+00, 0.00000000e+00,\n",
       "        0.00000000e+00, 0.00000000e+00, 0.00000000e+00, 0.00000000e+00,\n",
       "        0.00000000e+00, 0.00000000e+00, 0.00000000e+00, 0.00000000e+00,\n",
       "        0.00000000e+00, 0.00000000e+00, 0.00000000e+00, 0.00000000e+00,\n",
       "        0.00000000e+00, 0.00000000e+00, 0.00000000e+00, 0.00000000e+00,\n",
       "        0.00000000e+00, 0.00000000e+00, 0.00000000e+00, 0.00000000e+00,\n",
       "        0.00000000e+00, 0.00000000e+00, 0.00000000e+00, 0.00000000e+00,\n",
       "        0.00000000e+00, 0.00000000e+00, 0.00000000e+00, 0.00000000e+00,\n",
       "        0.00000000e+00, 0.00000000e+00, 0.00000000e+00, 0.00000000e+00,\n",
       "        0.00000000e+00, 0.00000000e+00, 0.00000000e+00, 0.00000000e+00,\n",
       "        0.00000000e+00, 0.00000000e+00, 0.00000000e+00, 0.00000000e+00,\n",
       "        0.00000000e+00, 0.00000000e+00, 0.00000000e+00, 0.00000000e+00,\n",
       "        0.00000000e+00, 0.00000000e+00, 0.00000000e+00, 0.00000000e+00,\n",
       "        0.00000000e+00, 0.00000000e+00, 0.00000000e+00, 0.00000000e+00,\n",
       "        0.00000000e+00, 0.00000000e+00, 0.00000000e+00, 0.00000000e+00,\n",
       "        0.00000000e+00, 0.00000000e+00, 0.00000000e+00, 0.00000000e+00,\n",
       "        0.00000000e+00, 0.00000000e+00, 0.00000000e+00, 0.00000000e+00,\n",
       "        0.00000000e+00, 8.04165565e-04, 0.00000000e+00, 0.00000000e+00,\n",
       "        0.00000000e+00, 0.00000000e+00, 0.00000000e+00, 0.00000000e+00,\n",
       "        0.00000000e+00, 0.00000000e+00, 0.00000000e+00, 0.00000000e+00,\n",
       "        0.00000000e+00, 0.00000000e+00, 0.00000000e+00, 2.41260224e-08,\n",
       "        0.00000000e+00, 0.00000000e+00, 0.00000000e+00, 0.00000000e+00,\n",
       "        0.00000000e+00, 0.00000000e+00, 0.00000000e+00, 0.00000000e+00,\n",
       "        0.00000000e+00, 0.00000000e+00, 0.00000000e+00, 0.00000000e+00,\n",
       "        0.00000000e+00, 0.00000000e+00, 0.00000000e+00, 0.00000000e+00,\n",
       "        0.00000000e+00, 0.00000000e+00, 0.00000000e+00, 0.00000000e+00,\n",
       "        0.00000000e+00, 0.00000000e+00, 0.00000000e+00, 0.00000000e+00,\n",
       "        0.00000000e+00, 0.00000000e+00, 0.00000000e+00, 0.00000000e+00,\n",
       "        0.00000000e+00, 0.00000000e+00, 0.00000000e+00, 0.00000000e+00,\n",
       "        0.00000000e+00, 0.00000000e+00, 0.00000000e+00, 0.00000000e+00,\n",
       "        0.00000000e+00, 0.00000000e+00, 0.00000000e+00, 0.00000000e+00,\n",
       "        0.00000000e+00, 0.00000000e+00, 0.00000000e+00, 0.00000000e+00,\n",
       "        0.00000000e+00, 0.00000000e+00, 0.00000000e+00, 0.00000000e+00,\n",
       "        0.00000000e+00, 0.00000000e+00, 0.00000000e+00, 0.00000000e+00,\n",
       "        0.00000000e+00, 0.00000000e+00, 0.00000000e+00, 0.00000000e+00,\n",
       "        0.00000000e+00, 0.00000000e+00, 0.00000000e+00, 0.00000000e+00,\n",
       "        0.00000000e+00, 0.00000000e+00, 1.00000000e+00, 0.00000000e+00,\n",
       "        0.00000000e+00, 0.00000000e+00, 0.00000000e+00, 0.00000000e+00,\n",
       "        0.00000000e+00, 0.00000000e+00, 0.00000000e+00, 0.00000000e+00,\n",
       "        0.00000000e+00, 0.00000000e+00, 0.00000000e+00, 0.00000000e+00,\n",
       "        0.00000000e+00, 0.00000000e+00, 0.00000000e+00, 0.00000000e+00,\n",
       "        0.00000000e+00, 0.00000000e+00, 0.00000000e+00, 0.00000000e+00,\n",
       "        0.00000000e+00, 0.00000000e+00, 0.00000000e+00, 0.00000000e+00,\n",
       "        0.00000000e+00, 0.00000000e+00, 0.00000000e+00, 0.00000000e+00,\n",
       "        0.00000000e+00, 0.00000000e+00, 0.00000000e+00, 0.00000000e+00,\n",
       "        0.00000000e+00, 0.00000000e+00, 0.00000000e+00, 0.00000000e+00,\n",
       "        0.00000000e+00, 0.00000000e+00, 0.00000000e+00, 0.00000000e+00,\n",
       "        0.00000000e+00, 0.00000000e+00, 0.00000000e+00, 0.00000000e+00,\n",
       "        0.00000000e+00, 0.00000000e+00, 0.00000000e+00, 0.00000000e+00,\n",
       "        0.00000000e+00, 0.00000000e+00, 0.00000000e+00, 0.00000000e+00,\n",
       "        0.00000000e+00, 0.00000000e+00, 0.00000000e+00, 0.00000000e+00,\n",
       "        0.00000000e+00, 0.00000000e+00, 0.00000000e+00, 0.00000000e+00,\n",
       "        0.00000000e+00, 0.00000000e+00, 0.00000000e+00, 0.00000000e+00,\n",
       "        0.00000000e+00, 0.00000000e+00, 0.00000000e+00, 0.00000000e+00,\n",
       "        0.00000000e+00, 0.00000000e+00, 0.00000000e+00, 0.00000000e+00,\n",
       "        0.00000000e+00, 0.00000000e+00, 0.00000000e+00, 0.00000000e+00,\n",
       "        0.00000000e+00, 0.00000000e+00, 0.00000000e+00, 0.00000000e+00,\n",
       "        0.00000000e+00, 0.00000000e+00, 0.00000000e+00, 0.00000000e+00,\n",
       "        0.00000000e+00, 0.00000000e+00, 0.00000000e+00, 0.00000000e+00,\n",
       "        0.00000000e+00, 0.00000000e+00, 0.00000000e+00, 0.00000000e+00,\n",
       "        0.00000000e+00, 0.00000000e+00, 0.00000000e+00, 0.00000000e+00,\n",
       "        0.00000000e+00, 0.00000000e+00, 0.00000000e+00, 0.00000000e+00,\n",
       "        0.00000000e+00, 0.00000000e+00, 0.00000000e+00, 0.00000000e+00,\n",
       "        0.00000000e+00, 0.00000000e+00, 0.00000000e+00, 0.00000000e+00,\n",
       "        0.00000000e+00, 0.00000000e+00, 0.00000000e+00, 0.00000000e+00,\n",
       "        0.00000000e+00, 0.00000000e+00, 0.00000000e+00, 0.00000000e+00,\n",
       "        0.00000000e+00, 0.00000000e+00, 0.00000000e+00, 0.00000000e+00,\n",
       "        0.00000000e+00, 0.00000000e+00, 0.00000000e+00, 0.00000000e+00,\n",
       "        0.00000000e+00, 0.00000000e+00, 0.00000000e+00, 0.00000000e+00,\n",
       "        0.00000000e+00, 0.00000000e+00, 0.00000000e+00, 0.00000000e+00,\n",
       "        0.00000000e+00, 0.00000000e+00, 0.00000000e+00, 0.00000000e+00,\n",
       "        0.00000000e+00, 0.00000000e+00, 0.00000000e+00, 0.00000000e+00,\n",
       "        0.00000000e+00, 0.00000000e+00, 0.00000000e+00, 0.00000000e+00,\n",
       "        0.00000000e+00, 0.00000000e+00, 0.00000000e+00, 0.00000000e+00,\n",
       "        0.00000000e+00, 0.00000000e+00, 0.00000000e+00, 0.00000000e+00,\n",
       "        0.00000000e+00, 0.00000000e+00, 0.00000000e+00, 0.00000000e+00,\n",
       "        0.00000000e+00, 0.00000000e+00, 0.00000000e+00, 0.00000000e+00,\n",
       "        0.00000000e+00, 0.00000000e+00, 0.00000000e+00, 0.00000000e+00,\n",
       "        0.00000000e+00, 0.00000000e+00, 0.00000000e+00, 0.00000000e+00,\n",
       "        0.00000000e+00, 0.00000000e+00, 0.00000000e+00, 0.00000000e+00,\n",
       "        0.00000000e+00, 0.00000000e+00, 0.00000000e+00, 0.00000000e+00,\n",
       "        0.00000000e+00, 0.00000000e+00, 0.00000000e+00, 0.00000000e+00,\n",
       "        0.00000000e+00, 0.00000000e+00, 0.00000000e+00, 0.00000000e+00,\n",
       "        0.00000000e+00, 0.00000000e+00, 0.00000000e+00, 0.00000000e+00,\n",
       "        0.00000000e+00, 0.00000000e+00, 0.00000000e+00, 0.00000000e+00,\n",
       "        0.00000000e+00, 0.00000000e+00, 0.00000000e+00, 0.00000000e+00,\n",
       "        0.00000000e+00, 0.00000000e+00, 0.00000000e+00, 0.00000000e+00,\n",
       "        0.00000000e+00, 0.00000000e+00, 0.00000000e+00, 0.00000000e+00,\n",
       "        0.00000000e+00, 0.00000000e+00, 0.00000000e+00, 0.00000000e+00,\n",
       "        0.00000000e+00, 0.00000000e+00, 0.00000000e+00, 0.00000000e+00,\n",
       "        0.00000000e+00, 0.00000000e+00, 0.00000000e+00, 0.00000000e+00,\n",
       "        0.00000000e+00, 0.00000000e+00, 0.00000000e+00, 0.00000000e+00,\n",
       "        0.00000000e+00, 0.00000000e+00, 0.00000000e+00, 0.00000000e+00,\n",
       "        0.00000000e+00, 0.00000000e+00, 0.00000000e+00, 0.00000000e+00,\n",
       "        0.00000000e+00, 0.00000000e+00, 0.00000000e+00, 0.00000000e+00,\n",
       "        0.00000000e+00, 0.00000000e+00, 0.00000000e+00, 0.00000000e+00,\n",
       "        0.00000000e+00, 0.00000000e+00, 0.00000000e+00, 0.00000000e+00,\n",
       "        0.00000000e+00, 0.00000000e+00, 0.00000000e+00, 0.00000000e+00,\n",
       "        0.00000000e+00, 0.00000000e+00, 0.00000000e+00, 0.00000000e+00,\n",
       "        0.00000000e+00, 0.00000000e+00, 0.00000000e+00, 0.00000000e+00,\n",
       "        0.00000000e+00, 0.00000000e+00, 0.00000000e+00, 0.00000000e+00,\n",
       "        8.64533277e-03, 1.63026453e-02, 0.00000000e+00, 0.00000000e+00,\n",
       "        0.00000000e+00, 0.00000000e+00, 0.00000000e+00, 0.00000000e+00,\n",
       "        0.00000000e+00, 1.00000000e+00, 0.00000000e+00, 0.00000000e+00,\n",
       "        0.00000000e+00, 0.00000000e+00, 0.00000000e+00, 0.00000000e+00]])"
      ]
     },
     "execution_count": 45,
     "metadata": {},
     "output_type": "execute_result"
    }
   ],
   "source": [
    "X_2"
   ]
  },
  {
   "cell_type": "code",
   "execution_count": 46,
   "id": "5c970616",
   "metadata": {},
   "outputs": [
    {
     "ename": "AttributeError",
     "evalue": "'NoneType' object has no attribute 'predict'",
     "output_type": "error",
     "traceback": [
      "\u001b[0;31m---------------------------------------------------------------------------\u001b[0m",
      "\u001b[0;31mAttributeError\u001b[0m                            Traceback (most recent call last)",
      "Input \u001b[0;32mIn [46]\u001b[0m, in \u001b[0;36m<cell line: 1>\u001b[0;34m()\u001b[0m\n\u001b[0;32m----> 1\u001b[0m \u001b[43mtestload\u001b[49m\u001b[38;5;241;43m.\u001b[39;49m\u001b[43mpredict\u001b[49m(X_2)\n",
      "\u001b[0;31mAttributeError\u001b[0m: 'NoneType' object has no attribute 'predict'"
     ]
    }
   ],
   "source": [
    "testload.predict(X_2)"
   ]
  },
  {
   "cell_type": "code",
   "execution_count": 47,
   "id": "817ae705",
   "metadata": {},
   "outputs": [],
   "source": [
    "import joblib"
   ]
  },
  {
   "cell_type": "code",
   "execution_count": 48,
   "id": "21d9aa40",
   "metadata": {},
   "outputs": [],
   "source": [
    "testie = joblib.load(\"test3.sav\")\n"
   ]
  },
  {
   "cell_type": "code",
   "execution_count": 49,
   "id": "3e2aab75",
   "metadata": {},
   "outputs": [
    {
     "data": {
      "text/plain": [
       "array([5.641958], dtype=float32)"
      ]
     },
     "execution_count": 49,
     "metadata": {},
     "output_type": "execute_result"
    }
   ],
   "source": [
    "testie.predict(X_2)"
   ]
  }
 ],
 "metadata": {
  "kernelspec": {
   "display_name": "Python 3 (ipykernel)",
   "language": "python",
   "name": "python3"
  },
  "language_info": {
   "codemirror_mode": {
    "name": "ipython",
    "version": 3
   },
   "file_extension": ".py",
   "mimetype": "text/x-python",
   "name": "python",
   "nbconvert_exporter": "python",
   "pygments_lexer": "ipython3",
   "version": "3.8.12"
  },
  "toc": {
   "base_numbering": 1,
   "nav_menu": {},
   "number_sections": true,
   "sideBar": true,
   "skip_h1_title": false,
   "title_cell": "Table of Contents",
   "title_sidebar": "Contents",
   "toc_cell": false,
   "toc_position": {},
   "toc_section_display": true,
   "toc_window_display": false
  }
 },
 "nbformat": 4,
 "nbformat_minor": 5
}
