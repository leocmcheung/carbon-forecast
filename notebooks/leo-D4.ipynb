{
 "cells": [
  {
   "cell_type": "code",
   "execution_count": 1,
   "id": "2dfc6dfb",
   "metadata": {},
   "outputs": [],
   "source": [
    "%load_ext autoreload\n",
    "%autoreload 2\n",
    "\n",
    "import pandas as pd\n",
    "import numpy as np\n",
    "from carbon_forecast.utils.data_related import show_sector\n"
   ]
  },
  {
   "cell_type": "code",
   "execution_count": 7,
   "id": "dd3e9ae9",
   "metadata": {},
   "outputs": [
    {
     "data": {
      "text/plain": [
       "Industrials               7642\n",
       "Materials                 5480\n",
       "Consumer Discretionary    5124\n",
       "Financials                4147\n",
       "Information Technology    3577\n",
       "Consumer Staples          3133\n",
       "Utilities                 3007\n",
       "Energy                    2671\n",
       "Real Estate               2206\n",
       "Health Care               2131\n",
       "Communication Services    1400\n",
       "Name: GICS Sector Name, dtype: int64"
      ]
     },
     "execution_count": 7,
     "metadata": {},
     "output_type": "execute_result"
    }
   ],
   "source": [
    "df = pd.read_csv(\"../raw_data/Historical_Emissions.csv\")\n",
    "disclosing = df[df[\"Carbon-Weighted Disclosure (%)\"] > 0]\n",
    "disclosing[\"GICS Sector Name\"].value_counts()"
   ]
  },
  {
   "cell_type": "code",
   "execution_count": 9,
   "id": "1a9677a5",
   "metadata": {},
   "outputs": [
    {
     "name": "stdout",
     "output_type": "stream",
     "text": [
      "<class 'pandas.core.frame.DataFrame'>\n",
      "RangeIndex: 131061 entries, 0 to 131060\n",
      "Data columns (total 41 columns):\n",
      " #   Column                                                            Non-Null Count   Dtype  \n",
      "---  ------                                                            --------------   -----  \n",
      " 0   TCUID                                                             131061 non-null  int64  \n",
      " 1   Company                                                           131061 non-null  object \n",
      " 2   ISIN                                                              130690 non-null  object \n",
      " 3   Financial Year                                                    131061 non-null  int64  \n",
      " 4   GICS Sector Code                                                  131060 non-null  float64\n",
      " 5   GICS Sector Name                                                  131060 non-null  object \n",
      " 6   GICS Industry Group Code                                          131060 non-null  float64\n",
      " 7   GICS Industry Group Name                                          131060 non-null  object \n",
      " 8   GICS Industry Code                                                131060 non-null  float64\n",
      " 9   GICS Industry Name                                                131060 non-null  object \n",
      " 10  GICS Sub Industry Code                                            131060 non-null  float64\n",
      " 11  GICS Sub Industry Name                                            131060 non-null  object \n",
      " 12  GICS Description                                                  131060 non-null  object \n",
      " 13  Trucost Sector Name                                               131061 non-null  object \n",
      " 14  Trucost Sector                                                    131061 non-null  object \n",
      " 15  Country                                                           131061 non-null  object \n",
      " 16  Carbon-Scope 1 (tonnes CO2e)                                      131061 non-null  float64\n",
      " 17  Carbon-Scope 2 (tonnes CO2e)                                      131061 non-null  float64\n",
      " 18  Carbon-Scope 3 (tonnes CO2e)                                      131061 non-null  float64\n",
      " 19  Carbon-Direct (tonnes CO2e)                                       131061 non-null  float64\n",
      " 20  Carbon-First Tier Indirect (tonnes CO2e)                          131061 non-null  float64\n",
      " 21  Carbon-Direct+First Tier Indirect (tonnes CO2e)                   131061 non-null  float64\n",
      " 22  Carbon Intensity-Scope 1 (tonnes CO2e/USD mn)                     131061 non-null  float64\n",
      " 23  Carbon Intensity-Scope 2 (tonnes CO2e/USD mn)                     131061 non-null  float64\n",
      " 24  Carbon Intensity-Scope 3 (tonnes CO2e/USD mn)                     131061 non-null  float64\n",
      " 25  Carbon Intensity-Direct (tonnes CO2e/USD mn)                      131061 non-null  float64\n",
      " 26  Carbon Intensity-First Tier Indirect (tonnes CO2e/USD mn)         131061 non-null  float64\n",
      " 27  Carbon Intensity-Direct+First Tier Indirect (tonnes CO2e/USD mn)  131061 non-null  float64\n",
      " 28  GHG-Direct (USD mn)                                               131061 non-null  float64\n",
      " 29  GHG-Indirect (USD mn)                                             131061 non-null  float64\n",
      " 30  GHG-Total (USD mn)                                                131061 non-null  float64\n",
      " 31  GHG-Direct Impact Ratio (%)                                       131061 non-null  float64\n",
      " 32  GHG-Indirect Impact Ratio (%)                                     131061 non-null  float64\n",
      " 33  GHG-Total Impact Ratio (%)                                        131061 non-null  float64\n",
      " 34  Carbon Disclosure                                                 131060 non-null  object \n",
      " 35  Carbon-Weighted Disclosure (%)                                    131017 non-null  float64\n",
      " 36  Revenue (USD mn)                                                  131061 non-null  float64\n",
      " 37  Currency Code                                                     131059 non-null  object \n",
      " 38  Accounting Year End                                               131061 non-null  object \n",
      " 39  FigureRestate                                                     131061 non-null  int64  \n",
      " 40  EffectiveDate                                                     131061 non-null  object \n",
      "dtypes: float64(24), int64(3), object(14)\n",
      "memory usage: 41.0+ MB\n"
     ]
    }
   ],
   "source": [
    "df.info()"
   ]
  }
 ],
 "metadata": {
  "kernelspec": {
   "display_name": "Python 3 (ipykernel)",
   "language": "python",
   "name": "python3"
  },
  "language_info": {
   "codemirror_mode": {
    "name": "ipython",
    "version": 3
   },
   "file_extension": ".py",
   "mimetype": "text/x-python",
   "name": "python",
   "nbconvert_exporter": "python",
   "pygments_lexer": "ipython3",
   "version": "3.8.12"
  },
  "toc": {
   "base_numbering": 1,
   "nav_menu": {},
   "number_sections": true,
   "sideBar": true,
   "skip_h1_title": false,
   "title_cell": "Table of Contents",
   "title_sidebar": "Contents",
   "toc_cell": false,
   "toc_position": {},
   "toc_section_display": true,
   "toc_window_display": false
  }
 },
 "nbformat": 4,
 "nbformat_minor": 5
}
