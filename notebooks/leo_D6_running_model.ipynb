{
 "cells": [
  {
   "cell_type": "code",
   "execution_count": 10,
   "id": "2fe34c11",
   "metadata": {},
   "outputs": [
    {
     "name": "stderr",
     "output_type": "stream",
     "text": [
      "2022-09-12 09:40:09.732021: W tensorflow/stream_executor/platform/default/dso_loader.cc:64] Could not load dynamic library 'libcudart.so.11.0'; dlerror: libcudart.so.11.0: cannot open shared object file: No such file or directory\n",
      "2022-09-12 09:40:09.732102: I tensorflow/stream_executor/cuda/cudart_stub.cc:29] Ignore above cudart dlerror if you do not have a GPU set up on your machine.\n"
     ]
    }
   ],
   "source": [
    "import pickle\n",
    "import pandas as pd\n",
    "import numpy as np\n",
    "import matplotlib.pyplot as plt\n",
    "pd.set_option('display.max_columns', None)\n",
    "pd.options.display.max_info_columns=500\n",
    "pd.options.display.max_info_rows=550\n",
    "from tensorflow.keras.losses import mean_squared_error, mean_absolute_error, mean_absolute_percentage_error\n",
    "from tensorflow.keras.models import Sequential\n",
    "from tensorflow.keras.layers import Dense\n",
    "from sklearn.pipeline import Pipeline\n",
    "from sklearn.preprocessing import StandardScaler, OneHotEncoder, MinMaxScaler\n",
    "from sklearn.compose import ColumnTransformer\n",
    "from sklearn import set_config; set_config(display='diagram')\n",
    "from sklearn.model_selection import train_test_split, StratifiedKFold, RandomizedSearchCV, cross_val_score, GridSearchCV\n",
    "from xgboost import XGBRegressor"
   ]
  },
  {
   "cell_type": "code",
   "execution_count": 17,
   "id": "966e1ec0",
   "metadata": {},
   "outputs": [],
   "source": [
    "file = open('../carbon_forecast/pickle/xgboost_d5_model', 'rb')\n",
    "loaded = pickle.load(file)"
   ]
  },
  {
   "cell_type": "code",
   "execution_count": 11,
   "id": "02cd36d5",
   "metadata": {
    "scrolled": true
   },
   "outputs": [
    {
     "name": "stdout",
     "output_type": "stream",
     "text": [
      "Reading data...\n",
      "Preproc on power % revenue\n",
      "Preproc on Sector Revenue\n",
      "Selecting the year 2013 required...\n",
      "Dropping rows that are showing NaN on...\n",
      "-> intensity_scope1CY2013\n",
      "-> intensity_scope2CY2013\n",
      "-> intensity_scope3CY2013\n",
      "-> Revenue2013\n",
      "Filling employee numbers with mean value... (subject to change later)\n",
      "Filling EV with mean value... (subject to change later)\n",
      "Calculating Employees & EV per Revenue...\n",
      "Filling null Climate Strategy Score with 0...\n",
      "Cleaning P/E Ratio...\n",
      "Adding Scope 1 and Scope 2 data together...\n",
      "Doing some column renaming...\n",
      "Dataset preproc-ed for the year 2013!👍\n",
      "Reading data...\n",
      "Preproc on power % revenue\n",
      "Preproc on Sector Revenue\n",
      "Selecting the year 2014 required...\n",
      "Dropping rows that are showing NaN on...\n",
      "-> intensity_scope1CY2014\n",
      "-> intensity_scope2CY2014\n",
      "-> intensity_scope3CY2014\n",
      "-> Revenue2014\n",
      "Filling employee numbers with mean value... (subject to change later)\n",
      "Filling EV with mean value... (subject to change later)\n",
      "Calculating Employees & EV per Revenue...\n",
      "Filling null Climate Strategy Score with 0...\n",
      "Cleaning P/E Ratio...\n",
      "Adding Scope 1 and Scope 2 data together...\n",
      "Doing some column renaming...\n",
      "Dataset preproc-ed for the year 2014!👍\n",
      "Reading data...\n",
      "Preproc on power % revenue\n",
      "Preproc on Sector Revenue\n",
      "Selecting the year 2015 required...\n",
      "Dropping rows that are showing NaN on...\n",
      "-> intensity_scope1CY2015\n",
      "-> intensity_scope2CY2015\n",
      "-> intensity_scope3CY2015\n",
      "-> Revenue2015\n",
      "Filling employee numbers with mean value... (subject to change later)\n",
      "Filling EV with mean value... (subject to change later)\n",
      "Calculating Employees & EV per Revenue...\n",
      "Filling null Climate Strategy Score with 0...\n",
      "Cleaning P/E Ratio...\n",
      "Adding Scope 1 and Scope 2 data together...\n",
      "Doing some column renaming...\n",
      "Dataset preproc-ed for the year 2015!👍\n",
      "Reading data...\n",
      "Preproc on power % revenue\n",
      "Preproc on Sector Revenue\n",
      "Selecting the year 2016 required...\n",
      "Dropping rows that are showing NaN on...\n",
      "-> intensity_scope1CY2016\n",
      "-> intensity_scope2CY2016\n",
      "-> intensity_scope3CY2016\n",
      "-> Revenue2016\n",
      "Filling employee numbers with mean value... (subject to change later)\n",
      "Filling EV with mean value... (subject to change later)\n",
      "Calculating Employees & EV per Revenue...\n",
      "Filling null Climate Strategy Score with 0...\n",
      "Cleaning P/E Ratio...\n",
      "Adding Scope 1 and Scope 2 data together...\n",
      "Doing some column renaming...\n",
      "Dataset preproc-ed for the year 2016!👍\n",
      "Reading data...\n",
      "Preproc on power % revenue\n",
      "Preproc on Sector Revenue\n",
      "Selecting the year 2017 required...\n",
      "Dropping rows that are showing NaN on...\n",
      "-> intensity_scope1CY2017\n",
      "-> intensity_scope2CY2017\n",
      "-> intensity_scope3CY2017\n",
      "-> Revenue2017\n",
      "Filling employee numbers with mean value... (subject to change later)\n",
      "Filling EV with mean value... (subject to change later)\n",
      "Calculating Employees & EV per Revenue...\n",
      "Filling null Climate Strategy Score with 0...\n",
      "Cleaning P/E Ratio...\n",
      "Adding Scope 1 and Scope 2 data together...\n",
      "Doing some column renaming...\n",
      "Dataset preproc-ed for the year 2017!👍\n",
      "Reading data...\n",
      "Preproc on power % revenue\n",
      "Preproc on Sector Revenue\n",
      "Selecting the year 2018 required...\n",
      "Dropping rows that are showing NaN on...\n",
      "-> intensity_scope1CY2018\n",
      "-> intensity_scope2CY2018\n",
      "-> intensity_scope3CY2018\n",
      "-> Revenue2018\n",
      "Filling employee numbers with mean value... (subject to change later)\n",
      "Filling EV with mean value... (subject to change later)\n",
      "Calculating Employees & EV per Revenue...\n",
      "Filling null Climate Strategy Score with 0...\n",
      "Cleaning P/E Ratio...\n",
      "Adding Scope 1 and Scope 2 data together...\n",
      "Doing some column renaming...\n",
      "Dataset preproc-ed for the year 2018!👍\n",
      "Reading data...\n",
      "Preproc on power % revenue\n",
      "Preproc on Sector Revenue\n",
      "Selecting the year 2019 required...\n",
      "Dropping rows that are showing NaN on...\n",
      "-> intensity_scope1CY2019\n",
      "-> intensity_scope2CY2019\n",
      "-> intensity_scope3CY2019\n",
      "-> Revenue2019\n",
      "Filling employee numbers with mean value... (subject to change later)\n",
      "Filling EV with mean value... (subject to change later)\n",
      "Calculating Employees & EV per Revenue...\n",
      "Filling null Climate Strategy Score with 0...\n",
      "Cleaning P/E Ratio...\n",
      "Adding Scope 1 and Scope 2 data together...\n",
      "Doing some column renaming...\n",
      "Dataset preproc-ed for the year 2019!👍\n",
      "Reading data...\n",
      "Preproc on power % revenue\n",
      "Preproc on Sector Revenue\n",
      "Selecting the year 2020 required...\n",
      "Dropping rows that are showing NaN on...\n",
      "-> intensity_scope1CY2020\n",
      "-> intensity_scope2CY2020\n",
      "-> intensity_scope3CY2020\n",
      "-> Revenue2020\n",
      "Filling employee numbers with mean value... (subject to change later)\n",
      "Filling EV with mean value... (subject to change later)\n",
      "Calculating Employees & EV per Revenue...\n",
      "Filling null Climate Strategy Score with 0...\n",
      "Cleaning P/E Ratio...\n",
      "Adding Scope 1 and Scope 2 data together...\n",
      "Doing some column renaming...\n",
      "Dataset preproc-ed for the year 2020!👍\n"
     ]
    }
   ],
   "source": [
    "from carbon_forecast.utils.preproc import load_n_preproc_all_avail\n",
    "df = load_n_preproc_all_avail()\n",
    "X = df.drop(columns=[\"company_name\", \"TCUID\", \"year\", \"intensity_1and2\",\"intensity_scope3\"])\n",
    "y = df[\"intensity_1and2\"]"
   ]
  },
  {
   "cell_type": "code",
   "execution_count": 12,
   "id": "c43a4171",
   "metadata": {},
   "outputs": [
    {
     "data": {
      "text/html": [
       "<style>#sk-container-id-2 {color: black;background-color: white;}#sk-container-id-2 pre{padding: 0;}#sk-container-id-2 div.sk-toggleable {background-color: white;}#sk-container-id-2 label.sk-toggleable__label {cursor: pointer;display: block;width: 100%;margin-bottom: 0;padding: 0.3em;box-sizing: border-box;text-align: center;}#sk-container-id-2 label.sk-toggleable__label-arrow:before {content: \"▸\";float: left;margin-right: 0.25em;color: #696969;}#sk-container-id-2 label.sk-toggleable__label-arrow:hover:before {color: black;}#sk-container-id-2 div.sk-estimator:hover label.sk-toggleable__label-arrow:before {color: black;}#sk-container-id-2 div.sk-toggleable__content {max-height: 0;max-width: 0;overflow: hidden;text-align: left;background-color: #f0f8ff;}#sk-container-id-2 div.sk-toggleable__content pre {margin: 0.2em;color: black;border-radius: 0.25em;background-color: #f0f8ff;}#sk-container-id-2 input.sk-toggleable__control:checked~div.sk-toggleable__content {max-height: 200px;max-width: 100%;overflow: auto;}#sk-container-id-2 input.sk-toggleable__control:checked~label.sk-toggleable__label-arrow:before {content: \"▾\";}#sk-container-id-2 div.sk-estimator input.sk-toggleable__control:checked~label.sk-toggleable__label {background-color: #d4ebff;}#sk-container-id-2 div.sk-label input.sk-toggleable__control:checked~label.sk-toggleable__label {background-color: #d4ebff;}#sk-container-id-2 input.sk-hidden--visually {border: 0;clip: rect(1px 1px 1px 1px);clip: rect(1px, 1px, 1px, 1px);height: 1px;margin: -1px;overflow: hidden;padding: 0;position: absolute;width: 1px;}#sk-container-id-2 div.sk-estimator {font-family: monospace;background-color: #f0f8ff;border: 1px dotted black;border-radius: 0.25em;box-sizing: border-box;margin-bottom: 0.5em;}#sk-container-id-2 div.sk-estimator:hover {background-color: #d4ebff;}#sk-container-id-2 div.sk-parallel-item::after {content: \"\";width: 100%;border-bottom: 1px solid gray;flex-grow: 1;}#sk-container-id-2 div.sk-label:hover label.sk-toggleable__label {background-color: #d4ebff;}#sk-container-id-2 div.sk-serial::before {content: \"\";position: absolute;border-left: 1px solid gray;box-sizing: border-box;top: 0;bottom: 0;left: 50%;z-index: 0;}#sk-container-id-2 div.sk-serial {display: flex;flex-direction: column;align-items: center;background-color: white;padding-right: 0.2em;padding-left: 0.2em;position: relative;}#sk-container-id-2 div.sk-item {position: relative;z-index: 1;}#sk-container-id-2 div.sk-parallel {display: flex;align-items: stretch;justify-content: center;background-color: white;position: relative;}#sk-container-id-2 div.sk-item::before, #sk-container-id-2 div.sk-parallel-item::before {content: \"\";position: absolute;border-left: 1px solid gray;box-sizing: border-box;top: 0;bottom: 0;left: 50%;z-index: -1;}#sk-container-id-2 div.sk-parallel-item {display: flex;flex-direction: column;z-index: 1;position: relative;background-color: white;}#sk-container-id-2 div.sk-parallel-item:first-child::after {align-self: flex-end;width: 50%;}#sk-container-id-2 div.sk-parallel-item:last-child::after {align-self: flex-start;width: 50%;}#sk-container-id-2 div.sk-parallel-item:only-child::after {width: 0;}#sk-container-id-2 div.sk-dashed-wrapped {border: 1px dashed gray;margin: 0 0.4em 0.5em 0.4em;box-sizing: border-box;padding-bottom: 0.4em;background-color: white;}#sk-container-id-2 div.sk-label label {font-family: monospace;font-weight: bold;display: inline-block;line-height: 1.2em;}#sk-container-id-2 div.sk-label-container {text-align: center;}#sk-container-id-2 div.sk-container {/* jupyter's `normalize.less` sets `[hidden] { display: none; }` but bootstrap.min.css set `[hidden] { display: none !important; }` so we also need the `!important` here to be able to override the default hidden behavior on the sphinx rendered scikit-learn.org. See: https://github.com/scikit-learn/scikit-learn/issues/21755 */display: inline-block !important;position: relative;}#sk-container-id-2 div.sk-text-repr-fallback {display: none;}</style><div id=\"sk-container-id-2\" class=\"sk-top-container\"><div class=\"sk-text-repr-fallback\"><pre>ColumnTransformer(sparse_threshold=0,\n",
       "                  transformers=[(&#x27;num_tr&#x27;, MinMaxScaler(),\n",
       "                                 [&#x27;Abrasive product manufacturing&#x27;,\n",
       "                                  &#x27;Accounting, tax preparation, bookkeeping, &#x27;\n",
       "                                  &#x27;and payroll services&#x27;,\n",
       "                                  &#x27;Adhesive manufacturing&#x27;,\n",
       "                                  &#x27;Advertising and related services&#x27;,\n",
       "                                  &#x27;Air and gas compressor manufacturing&#x27;,\n",
       "                                  &#x27;Air conditioning, refrigeration, and warm &#x27;\n",
       "                                  &#x27;air heating equipment manufacturing&#x27;,\n",
       "                                  &#x27;Air purification...\n",
       "                                  &#x27;All other textile product mills&#x27;,\n",
       "                                  &#x27;All other transportation equipment &#x27;\n",
       "                                  &#x27;manufacturing&#x27;,\n",
       "                                  &#x27;Alumina refining and primary aluminum &#x27;\n",
       "                                  &#x27;production&#x27;,\n",
       "                                  &#x27;Aluminum product manufacturing from &#x27;\n",
       "                                  &#x27;purchased aluminum&#x27;,\n",
       "                                  &#x27;Ammunition manufacturing&#x27;,\n",
       "                                  &#x27;Amusement parks, arcades, and gambling &#x27;\n",
       "                                  &#x27;industries&#x27;,\n",
       "                                  &#x27;Analytical laboratory instrument &#x27;\n",
       "                                  &#x27;manufacturing&#x27;, ...]),\n",
       "                                (&#x27;cat_tr&#x27;,\n",
       "                                 OneHotEncoder(handle_unknown=&#x27;ignore&#x27;),\n",
       "                                 [&#x27;Sector&#x27;])])</pre><b>In a Jupyter environment, please rerun this cell to show the HTML representation or trust the notebook. <br />On GitHub, the HTML representation is unable to render, please try loading this page with nbviewer.org.</b></div><div class=\"sk-container\" hidden><div class=\"sk-item sk-dashed-wrapped\"><div class=\"sk-label-container\"><div class=\"sk-label sk-toggleable\"><input class=\"sk-toggleable__control sk-hidden--visually\" id=\"sk-estimator-id-2\" type=\"checkbox\" ><label for=\"sk-estimator-id-2\" class=\"sk-toggleable__label sk-toggleable__label-arrow\">ColumnTransformer</label><div class=\"sk-toggleable__content\"><pre>ColumnTransformer(sparse_threshold=0,\n",
       "                  transformers=[(&#x27;num_tr&#x27;, MinMaxScaler(),\n",
       "                                 [&#x27;Abrasive product manufacturing&#x27;,\n",
       "                                  &#x27;Accounting, tax preparation, bookkeeping, &#x27;\n",
       "                                  &#x27;and payroll services&#x27;,\n",
       "                                  &#x27;Adhesive manufacturing&#x27;,\n",
       "                                  &#x27;Advertising and related services&#x27;,\n",
       "                                  &#x27;Air and gas compressor manufacturing&#x27;,\n",
       "                                  &#x27;Air conditioning, refrigeration, and warm &#x27;\n",
       "                                  &#x27;air heating equipment manufacturing&#x27;,\n",
       "                                  &#x27;Air purification...\n",
       "                                  &#x27;All other textile product mills&#x27;,\n",
       "                                  &#x27;All other transportation equipment &#x27;\n",
       "                                  &#x27;manufacturing&#x27;,\n",
       "                                  &#x27;Alumina refining and primary aluminum &#x27;\n",
       "                                  &#x27;production&#x27;,\n",
       "                                  &#x27;Aluminum product manufacturing from &#x27;\n",
       "                                  &#x27;purchased aluminum&#x27;,\n",
       "                                  &#x27;Ammunition manufacturing&#x27;,\n",
       "                                  &#x27;Amusement parks, arcades, and gambling &#x27;\n",
       "                                  &#x27;industries&#x27;,\n",
       "                                  &#x27;Analytical laboratory instrument &#x27;\n",
       "                                  &#x27;manufacturing&#x27;, ...]),\n",
       "                                (&#x27;cat_tr&#x27;,\n",
       "                                 OneHotEncoder(handle_unknown=&#x27;ignore&#x27;),\n",
       "                                 [&#x27;Sector&#x27;])])</pre></div></div></div><div class=\"sk-parallel\"><div class=\"sk-parallel-item\"><div class=\"sk-item\"><div class=\"sk-label-container\"><div class=\"sk-label sk-toggleable\"><input class=\"sk-toggleable__control sk-hidden--visually\" id=\"sk-estimator-id-3\" type=\"checkbox\" ><label for=\"sk-estimator-id-3\" class=\"sk-toggleable__label sk-toggleable__label-arrow\">num_tr</label><div class=\"sk-toggleable__content\"><pre>[&#x27;Abrasive product manufacturing&#x27;, &#x27;Accounting, tax preparation, bookkeeping, and payroll services&#x27;, &#x27;Adhesive manufacturing&#x27;, &#x27;Advertising and related services&#x27;, &#x27;Air and gas compressor manufacturing&#x27;, &#x27;Air conditioning, refrigeration, and warm air heating equipment manufacturing&#x27;, &#x27;Air purification and ventilation equipment manufacturing&#x27;, &#x27;Air transportation&#x27;, &#x27;Aircraft engine and engine parts manufacturing&#x27;, &#x27;Aircraft manufacturing&#x27;, &#x27;Alkalies and chlorine manufacturing&#x27;, &#x27;All other basic inorganic chemical manufacturing&#x27;, &#x27;All other chemical product and preparation manufacturing&#x27;, &#x27;All other converted paper product manufacturing&#x27;, &#x27;All other crop farming&#x27;, &#x27;All other food manufacturing&#x27;, &#x27;All other forging, stamping, and sintering&#x27;, &#x27;All other miscellaneous electrical equipment and component manufacturing&#x27;, &#x27;All other miscellaneous manufacturing&#x27;, &#x27;All other miscellaneous professional, scientific, and technical services&#x27;, &#x27;All other miscellaneous wood product manufacturing&#x27;, &#x27;All other paper bag and coated and treated paper manufacturing&#x27;, &#x27;All other petroleum and coal products manufacturing&#x27;, &#x27;All other textile product mills&#x27;, &#x27;All other transportation equipment manufacturing&#x27;, &#x27;Alumina refining and primary aluminum production&#x27;, &#x27;Aluminum product manufacturing from purchased aluminum&#x27;, &#x27;Ammunition manufacturing&#x27;, &#x27;Amusement parks, arcades, and gambling industries&#x27;, &#x27;Analytical laboratory instrument manufacturing&#x27;, &#x27;Animal (except poultry) slaughtering, rendering, and processing&#x27;, &#x27;Animal production, except cattle and poultry and eggs&#x27;, &#x27;Apparel accessories and other apparel manufacturing&#x27;, &#x27;Apparel knitting mills&#x27;, &#x27;Apparel, Piece Goods, and Notions Wholesalers&#x27;, &#x27;Architectural, engineering, and related services&#x27;, &#x27;Arms, ordnance, and accessories manufacturing&#x27;, &#x27;Artificial and synthetic fibers and filaments manufacturing&#x27;, &#x27;Asphalt paving mixture and block manufacturing&#x27;, &#x27;Asphalt shingle and coating materials manufacturing&#x27;, &#x27;Audio and video equipment manufacturing&#x27;, &#x27;Automatic environmental control manufacturing&#x27;, &#x27;Automobile manufacturing&#x27;, &#x27;Automotive equipment rental and leasing&#x27;, &#x27;Automotive repair and maintenance, except car washes&#x27;, &#x27;Ball and roller bearing manufacturing&#x27;, &#x27;Bare printed circuit board manufacturing&#x27;, &#x27;Bauxite Mining&#x27;, &#x27;Beet sugar manufacturing&#x27;, &#x27;Biological product (except diagnostic) manufacturing&#x27;, &#x27;Biomass Power Generation&#x27;, &#x27;Bituminous Coal Underground Mining&#x27;, &#x27;Bituminous Coal and Lignite Surface Mining&#x27;, &#x27;Blind and shade manufacturing&#x27;, &#x27;Boat building&#x27;, &#x27;Book publishers&#x27;, &#x27;Bowling centers&#x27;, &#x27;Bread and bakery product manufacturing&#x27;, &#x27;Breakfast cereal manufacturing&#x27;, &#x27;Breweries&#x27;, &#x27;Brick, tile, and other structural clay product manufacturing&#x27;, &#x27;Broadcast and wireless communications equipment&#x27;, &#x27;Broadwoven fabric mills&#x27;, &#x27;Broom, brush, and mop manufacturing&#x27;, &#x27;Building Material and Garden Equipment and Supplies Dealers&#x27;, &#x27;Business support services&#x27;, &#x27;Cable and other subscription programming&#x27;, &#x27;Car washes&#x27;, &#x27;Carbon and graphite product manufacturing&#x27;, &#x27;Carbon black manufacturing&#x27;, &#x27;Carpet and rug mills&#x27;, &#x27;Cattle ranching and farming&#x27;, &#x27;Cement manufacturing&#x27;, &#x27;Cheese manufacturing&#x27;, &#x27;Child day care services&#x27;, &#x27;Chocolate and confectionery manufacturing from cacao beans&#x27;, &#x27;Clay and nonclay refractory manufacturing&#x27;, &#x27;Clothing and Clothing Accessories Stores&#x27;, &#x27;Coal Power Generation&#x27;, &#x27;Coated and laminated paper, packaging paper and plastics film manufacturing&#x27;, &#x27;Coating, engraving, heat treating and allied activities&#x27;, &#x27;Coffee and tea manufacturing&#x27;, &#x27;Commercial and industrial machinery and equipment rental and leasing&#x27;, &#x27;Commercial and industrial machinery and equipment repair and maintenance&#x27;, &#x27;Communication and energy wire and cable manufacturing&#x27;, &#x27;Community food, housing, and other relief services, including rehabilitation services&#x27;, &#x27;Computer storage device manufacturing&#x27;, &#x27;Computer systems design services&#x27;, &#x27;Computer terminals and other computer peripheral equipment manufacturing&#x27;, &#x27;Concrete pipe, brick, and block manufacturing&#x27;, &#x27;Confectionery manufacturing from purchased chocolate&#x27;, &#x27;Construction machinery manufacturing&#x27;, &#x27;Cookie, cracker, and pasta manufacturing&#x27;, &#x27;Copper Mining&#x27;, &#x27;Copper rolling, drawing, extruding and alloying&#x27;, &#x27;Cotton farming&#x27;, &#x27;Couriers and messengers&#x27;, &#x27;Crown and closure manufacturing and metal stamping&#x27;, &#x27;Crude Petroleum and Natural Gas Extraction&#x27;, &#x27;Curtain and linen mills&#x27;, &#x27;Custom architectural woodwork and millwork manufacturing&#x27;, &#x27;Custom computer programming services&#x27;, &#x27;Cut and sew apparel contractors&#x27;, &#x27;Cut stone and stone product manufacturing&#x27;, &#x27;Cutlery, utensil, pot, and pan manufacturing&#x27;, &#x27;Cutting tool and machine tool accessory manufacturing&#x27;, &#x27;Dairy cattle and milk production&#x27;, &#x27;Data processing, hosting, and related services&#x27;, &#x27;Death care services&#x27;, &#x27;Dental equipment and supplies manufacturing&#x27;, &#x27;Directory, mailing list, and other publishers&#x27;, &#x27;Distilleries&#x27;, &#x27;Dog and cat food manufacturing&#x27;, &#x27;Doll, toy, and game manufacturing&#x27;, &#x27;Drilling oil and gas wells&#x27;, &#x27;Dry, condensed, and evaporated dairy product manufacturing&#x27;, &#x27;Dry-cleaning and laundry services&#x27;, &#x27;EV / Revenue&#x27;, &#x27;Electric Bulk Power Transmission and Control&#x27;, &#x27;Electric Power Distribution&#x27;, &#x27;Electric lamp bulb and part manufacturing&#x27;, &#x27;Electrical and Electronic Goods Wholesalers&#x27;, &#x27;Electricity and signal testing instruments manufacturing&#x27;, &#x27;Electromedical and electrotherapeutic apparatus manufacturing&#x27;, &#x27;Electron tube manufacturing&#x27;, &#x27;Electronic and precision equipment repair and maintenance&#x27;, &#x27;Electronic capacitor, resistor, coil, transformer, and other inductor manufacturing&#x27;, &#x27;Electronic computer manufacturing&#x27;, &#x27;Electronic connector manufacturing&#x27;, &#x27;Electronics and Appliance Stores&#x27;, &#x27;Elementary and secondary schools&#x27;, &#x27;Employees / Revenue&#x27;, &#x27;Employment services&#x27;, &#x27;Engineered wood member and truss manufacturing&#x27;, &#x27;Environmental and other technical consulting services&#x27;, &#x27;Fabric coating mills&#x27;, &#x27;Fabricated pipe and pipe fitting manufacturing&#x27;, &#x27;Facilities support services&#x27;, &#x27;Farm machinery and equipment manufacturing&#x27;, &#x27;Fats and oils refining and blending&#x27;, &#x27;Ferrous metal foundries&#x27;, &#x27;Fertilizer manufacturing&#x27;, &#x27;Fiber, yarn, and thread mills&#x27;, &#x27;Fishing&#x27;, &#x27;Fitness and recreational sports centers&#x27;, &#x27;Flat glass manufacturing&#x27;, &#x27;Flavoring syrup and concentrate manufacturing&#x27;, &#x27;Flour milling and malt manufacturing&#x27;, &#x27;Fluid milk and butter manufacturing&#x27;, &#x27;Fluid power process machinery&#x27;, &#x27;Food services and drinking places&#x27;, &#x27;Food, Beverage, Health, and Personal Care Stores&#x27;, &#x27;Footwear manufacturing&#x27;, &#x27;Forest nurseries, forest products, and timber tracts&#x27;, &#x27;Frozen food manufacturing&#x27;, &#x27;Fruit and vegetable canning, pickling, and drying&#x27;, &#x27;Fruit farming&#x27;, &#x27;Funds, trusts, and other financial vehicles&#x27;, &#x27;Furniture and Home Furnishings Stores&#x27;, &#x27;Gasket, packing, and sealing device manufacturing&#x27;, &#x27;Gasoline Stations&#x27;, &#x27;General Merchandise Stores&#x27;, &#x27;General and consumer goods rental except video tapes and discs&#x27;, &#x27;Geothermal Power Generation&#x27;, &#x27;Glass container manufacturing&#x27;, &#x27;Glass product manufacturing made of purchased glass&#x27;, &#x27;Gold Ore Mining&#x27;, &#x27;Grain farming&#x27;, &#x27;Grantmaking, giving, and social advocacy organizations&#x27;, &#x27;Greenhouse, nursery, and floriculture production&#x27;, &#x27;Grocery and Related Product Wholesalers&#x27;, &#x27;Ground or treated mineral and earth manufacturing&#x27;, &#x27;Guided missile and space vehicle manufacturing&#x27;, &#x27;Handtool manufacturing&#x27;, &#x27;Hardware manufacturing&#x27;, &#x27;Heating equipment (except warm air furnaces) manufacturing&#x27;, &#x27;Heavy duty truck manufacturing&#x27;, &#x27;Home health care services&#x27;, &#x27;Hospitals&#x27;, &#x27;Hotels and motels, including casino hotels&#x27;, &#x27;Household cooking appliance manufacturing&#x27;, &#x27;Household laundry equipment manufacturing&#x27;, &#x27;Household refrigerator and home freezer manufacturing&#x27;, &#x27;Hydroelectric Power Generation&#x27;, &#x27;Ice cream and frozen dessert manufacturing&#x27;, &#x27;In-vitro diagnostic substance manufacturing&#x27;, &#x27;Independent artists, writers, and performers&#x27;, &#x27;Individual and family services&#x27;, &#x27;Industrial gas manufacturing&#x27;, &#x27;Industrial mold manufacturing&#x27;, &#x27;Industrial process furnace and oven manufacturing&#x27;, &#x27;Industrial process variable instruments manufacturing&#x27;, &#x27;Institutional furniture manufacturing&#x27;, &#x27;Insurance agencies, brokerages, and related activities&#x27;, &#x27;Insurance carriers&#x27;, &#x27;Internet publishing and broadcasting&#x27;, &#x27;Internet service providers and web search portals&#x27;, &#x27;Investigation and security services&#x27;, &#x27;Iron and steel mills and ferroalloy manufacturing&#x27;, &#x27;Iron ore mining&#x27;, &#x27;Irradiation apparatus manufacturing&#x27;, &#x27;Jewelry and silverware manufacturing&#x27;, &#x27;Junior colleges, colleges, universities, and professional schools&#x27;, &#x27;Knit fabric mills&#x27;, &#x27;Laminated plastics plate, sheet (except packaging), and shape manufacturing&#x27;, &#x27;Landfill Gas Power Generation&#x27;, &#x27;Lawn and garden equipment manufacturing&#x27;, &#x27;Lead Ore and Zinc Ore Mining&#x27;, &#x27;Leather and hide tanning and finishing&#x27;, &#x27;Legal services&#x27;, &#x27;Lessors of nonfinancial intangible assets&#x27;, &#x27;Light truck and utility vehicle manufacturing&#x27;, &#x27;Lighting fixture manufacturing&#x27;, &#x27;Lime and gypsum product manufacturing&#x27;, &#x27;Logging&#x27;, &#x27;Lumber and Other Construction Materials Wholesalers&#x27;, &#x27;Magnetic and optical recording media manufacturing&#x27;, &#x27;Management of companies and enterprises&#x27;, &#x27;Management, scientific, and technical consulting services&#x27;, &#x27;Manufactured home (mobile home) manufacturing&#x27;, &#x27;Material handling equipment manufacturing&#x27;, &#x27;Mattress manufacturing&#x27;, &#x27;Mechanical power transmission equipment manufacturing&#x27;, &#x27;Medical and diagnostic labs and outpatient and other ambulatory care services&#x27;, &#x27;Medicinal and botanical manufacturing&#x27;, &quot;Men&#x27;s and boys&#x27; cut and sew apparel manufacturing&quot;, &#x27;Metal and other household furniture manufacturing&#x27;, &#x27;Metal can, box, and other metal container (light gauge) manufacturing&#x27;, &#x27;Metal cutting and forming machine tool manufacturing&#x27;, &#x27;Metal tank (heavy gauge) manufacturing&#x27;, &#x27;Military armored vehicle, tank, and tank component manufacturing&#x27;, &#x27;Mineral wool manufacturing&#x27;, &#x27;Mining and oil and gas field machinery manufacturing&#x27;, &#x27;Miscellaneous Durable Goods Wholesalers&#x27;, &#x27;Miscellaneous Nondurable Goods Wholesalers&#x27;, &#x27;Miscellaneous Store Retailers&#x27;, &#x27;Miscellaneous nonmetallic mineral products&#x27;, &#x27;Monetary authorities and depository credit intermediation&#x27;, &#x27;Motion picture and video industries&#x27;, &#x27;Motor Vehicle and Machinery, Equipment, and Supplies Wholesalers&#x27;, &#x27;Motor Vehicle and Parts Dealers&#x27;, &#x27;Motor and generator manufacturing&#x27;, &#x27;Motor home manufacturing&#x27;, &#x27;Motor vehicle body manufacturing&#x27;, &#x27;Motor vehicle parts manufacturing&#x27;, &#x27;Motorcycle, bicycle, and parts manufacturing&#x27;, &#x27;Museums, historical sites, zoos, and parks&#x27;, &#x27;Musical instrument manufacturing&#x27;, &#x27;Narrow fabric mills and schiffli machine embroidery&#x27;, &#x27;Natural Gas Liquid Extraction&#x27;, &#x27;Natural Gas Power Generation&#x27;, &#x27;Natural gas distribution&#x27;, &#x27;Newspaper publishers&#x27;, &#x27;Nickel Mining&#x27;, &#x27;Nonchocolate confectionery manufacturing&#x27;, &#x27;Nondepository credit intermediation and related activities&#x27;, &#x27;Nonferrous metal (except copper and aluminum) rolling, drawing, extruding and alloying&#x27;, &#x27;Nonferrous metal foundries&#x27;, &#x27;Nonresidential commercial and health care structures&#x27;, &#x27;Nonresidential maintenance and repair&#x27;, &#x27;Nonresidential manufacturing structures&#x27;, &#x27;Nonstore Retailers&#x27;, &#x27;Nonupholstered wood household furniture manufacturing&#x27;, &#x27;Nonwoven fabric mills&#x27;, &#x27;Nuclear Electric Power Generation&#x27;, &#x27;Nursing and residential care facilities&#x27;, &#x27;Office administrative services&#x27;, &#x27;Office furniture manufacturing&#x27;, &#x27;Office supplies (except paper) manufacturing&#x27;, &#x27;Offices of physicians, dentists, and other health practitioners&#x27;, &#x27;Oilseed farming&#x27;, &#x27;Ophthalmic goods manufacturing&#x27;, &#x27;Optical instrument and lens manufacturing&#x27;, &#x27;Ornamental and architectural metal products manufacturing&#x27;, &#x27;Other Electric Power Generation&#x27;, &#x27;Other Metal Ore Mining&#x27;, &#x27;Other accommodations&#x27;, &#x27;Other aircraft parts and auxiliary equipment manufacturing&#x27;, &#x27;Other amusement and recreation industries&#x27;, &#x27;Other animal food manufacturing&#x27;, &#x27;Other basic organic chemical manufacturing&#x27;, &#x27;Other commercial and service industry machinery manufacturing&#x27;, &#x27;Other communications equipment manufacturing&#x27;, &#x27;Other computer related services, including facilities management&#x27;, &#x27;Other concrete product manufacturing&#x27;, &#x27;Other cut and sew apparel manufacturing&#x27;, &#x27;Other educational services&#x27;, &#x27;Other electronic component manufacturing&#x27;, &#x27;Other engine equipment manufacturing&#x27;, &#x27;Other fabricated metal manufacturing&#x27;, &#x27;Other general purpose machinery manufacturing&#x27;, &#x27;Other industrial machinery manufacturing&#x27;, &#x27;Other information services&#x27;, &#x27;Other leather and allied product manufacturing&#x27;, &#x27;Other major household appliance manufacturing&#x27;, &#x27;Other nonmetallic mineral mining and quarrying&#x27;, &#x27;Other nonresidential structures&#x27;, &#x27;Other personal services&#x27;, &#x27;Other plastics product manufacturing&#x27;, &#x27;Other pressed and blown glass and glassware manufacturing&#x27;, &#x27;Other residential structures&#x27;, &#x27;Other rubber product manufacturing&#x27;, &#x27;Other support services&#x27;, &#x27;Packaging machinery manufacturing&#x27;, &#x27;Paint and coating manufacturing&#x27;, &#x27;Paper mills&#x27;, &#x27;Paperboard Mills&#x27;, &#x27;Paperboard container manufacturing&#x27;, &#x27;Performing arts companies&#x27;, &#x27;Periodical publishers&#x27;, &#x27;Personal and household goods repair and maintenance&#x27;, &#x27;Personal care services&#x27;, &#x27;Pesticide and other agricultural chemical manufacturing&#x27;, &#x27;Petrochemical manufacturing&#x27;, &#x27;Petroleum Power Generation&#x27;, &#x27;Petroleum lubricating oil and grease manufacturing&#x27;, &#x27;Petroleum refineries&#x27;, &#x27;Petroleum, Chemical, and Allied Products Wholesalers&#x27;, &#x27;Pharmaceutical preparation manufacturing&#x27;, &#x27;Photographic and photocopying equipment manufacturing&#x27;, &#x27;Photographic services&#x27;, &#x27;Pipeline transportation&#x27;, &#x27;Plastics and rubber industry machinery manufacturing&#x27;, &#x27;Plastics bottle manufacturing&#x27;, &#x27;Plastics material and resin manufacturing&#x27;, &#x27;Plastics packaging materials and unlaminated film and sheet manufacturing&#x27;, &#x27;Plastics pipe and pipe fitting manufacturing&#x27;, &#x27;Plate work and fabricated structural product manufacturing&#x27;, &#x27;Plumbing fixture fitting and trim manufacturing&#x27;, &#x27;Polystyrene foam product manufacturing&#x27;, &#x27;Postal service&#x27;, &#x27;Pottery, ceramics, and plumbing fixture manufacturing&#x27;, &#x27;Poultry and egg production&#x27;, &#x27;Poultry processing&#x27;, &#x27;Power boiler and heat exchanger manufacturing&#x27;, &#x27;Power, distribution, and specialty transformer manufacturing&#x27;, &#x27;Power-driven handtool manufacturing&#x27;, &#x27;Prefabricated wood building manufacturing&#x27;, &#x27;Primary battery manufacturing&#x27;, &#x27;Primary smelting and refining of copper&#x27;, &#x27;Primary smelting and refining of nonferrous metal (except copper and aluminum)&#x27;, &#x27;Printed circuit assembly (electronic assembly) manufacturing&#x27;, &#x27;Printing&#x27;, &#x27;Printing ink manufacturing&#x27;, &#x27;Promoters of performing arts and sports and agents for public figures&#x27;, &#x27;Propulsion units and parts for space vehicles and guided missiles&#x27;, &#x27;Pulp mills&#x27;, &#x27;Pump and pumping equipment manufacturing&#x27;, &#x27;Radio and television broadcasting&#x27;, &#x27;Rail transportation (Diesel)&#x27;, &#x27;Rail transportation (Electric)&#x27;, &#x27;Railroad rolling stock manufacturing&#x27;, &#x27;Ready-mix concrete manufacturing&#x27;, &#x27;Real estate&#x27;, &#x27;Reconstituted wood product manufacturing&#x27;, &#x27;Relay and industrial control manufacturing&#x27;, &#x27;Residential maintenance and repair&#x27;, &#x27;Residential permanent site single- and multi-family structures&#x27;, &#x27;Rolling mill and other metalworking machinery manufacturing&#x27;, &#x27;Rubber and plastics hoses and belting manufacturing&#x27;, &#x27;Sand, gravel, clay, and ceramic and refractory minerals mining and quarrying&#x27;, &#x27;Sanitary paper product manufacturing&#x27;, &#x27;Sawmills and wood preservation&#x27;, &#x27;Scientific research and development services&#x27;, &#x27;Seafood product preparation and packaging&#x27;, &#x27;Search, detection, and navigation instruments manufacturing&#x27;, &#x27;Seasoning and dressing manufacturing&#x27;, &#x27;Secondary smelting and alloying of aluminum&#x27;, &#x27;Securities, commodity contracts, investments, and related activities&#x27;, &#x27;Semiconductor and related device manufacturing&#x27;, &#x27;Semiconductor machinery manufacturing&#x27;, &#x27;Services to buildings and dwellings&#x27;, &#x27;Ship building and repairing&#x27;, &#x27;Showcase, partition, shelving, and locker manufacturing&#x27;, &#x27;Sign manufacturing&#x27;, &#x27;Small electrical appliance manufacturing&#x27;, &#x27;Snack food manufacturing&#x27;, &#x27;Soap and cleaning compound manufacturing&#x27;, &#x27;Soft drink and ice manufacturing&#x27;, &#x27;Software publishers&#x27;, &#x27;Software, audio, and video media reproducing&#x27;, &#x27;Solar Power Generation&#x27;, &#x27;Sound recording industries&#x27;, &#x27;Soybean and other oilseed processing&#x27;, &#x27;Special tool, die, jig, and fixture manufacturing&#x27;, &#x27;Specialized design services&#x27;, &#x27;Spectator sports&#x27;, &#x27;Speed changer, industrial high-speed drive, and gear manufacturing&#x27;, &#x27;Sporting and athletic goods manufacturing&#x27;, &#x27;Spring and wire product manufacturing&#x27;, &#x27;Stationery product manufacturing&#x27;, &#x27;Steel product manufacturing from purchased steel&#x27;, &#x27;Stone mining and quarrying&#x27;, &#x27;Storage battery manufacturing&#x27;, &#x27;Sugar cane mills and refining&#x27;, &#x27;Sugarcane and sugar beet farming&#x27;, &#x27;Support activities for agriculture and forestry&#x27;, &#x27;Support activities for oil and gas operations&#x27;, &#x27;Support activities for other mining&#x27;, &#x27;Support activities for printing&#x27;, &#x27;Support activities for transportation&#x27;, &#x27;Surgical and medical instrument manufacturing&#x27;, &#x27;Surgical appliance and supplies manufacturing&#x27;, &#x27;Switchgear and switchboard apparatus manufacturing&#x27;, &#x27;Synthetic dye and pigment manufacturing&#x27;, &#x27;Synthetic rubber manufacturing&#x27;, &#x27;Tar Sands Extraction&#x27;, &#x27;Telecommunications&#x27;, &#x27;Telephone apparatus manufacturing&#x27;, &#x27;Textile and fabric finishing mills&#x27;, &#x27;Textile bag and canvas mills&#x27;, &#x27;Tire manufacturing&#x27;, &#x27;Tobacco product manufacturing&#x27;, &#x27;Toilet preparation manufacturing&#x27;, &#x27;Totalizing fluid meters and counting devices manufacturing&#x27;, &#x27;Transit and ground passenger transportation&#x27;, &#x27;Travel arrangement and reservation services&#x27;, &#x27;Travel trailer and camper manufacturing&#x27;, &#x27;Tree nut farming&#x27;, &#x27;Truck trailer manufacturing&#x27;, &#x27;Truck transportation&#x27;, &#x27;Turbine and turbine generator set units manufacturing&#x27;, &#x27;Turned product and screw, nut, and bolt manufacturing&#x27;, &#x27;Unlaminated plastics profile shape manufacturing&#x27;, &#x27;Upholstered household furniture manufacturing&#x27;, &#x27;Uranium-Radium-Vanadium Ore Mining&#x27;, &#x27;Urethane and other foam product (except polystyrene) manufacturing&#x27;, &#x27;Valve and fittings other than plumbing&#x27;, &#x27;Vegetable and melon farming&#x27;, &#x27;Vending, commercial, industrial, and office machinery manufacturing&#x27;, &#x27;Veneer and plywood manufacturing&#x27;, &#x27;Veterinary services&#x27;, &#x27;Warehousing and storage&#x27;, &#x27;Waste management and remediation services&#x27;, &#x27;Watch, clock, and other measuring and controlling device manufacturing&#x27;, &#x27;Water transportation&#x27;, &#x27;Water, sewage and other systems&#x27;, &#x27;Wave &amp; Tidal Power Generation&#x27;, &#x27;Wet corn milling&#x27;, &#x27;Wind Power Generation&#x27;, &#x27;Wineries&#x27;, &#x27;Wiring device manufacturing&#x27;, &quot;Women&#x27;s and girls&#x27; cut and sew apparel manufacturing&quot;, &#x27;Wood container and pallet manufacturing&#x27;, &#x27;Wood kitchen cabinet and countertop manufacturing&#x27;, &#x27;Wood windows and doors and millwork&#x27;, &#x27;arctic_drilling_percentage_revenue&#x27;, &#x27;climate_strategy_score&#x27;, &#x27;coal_percentage_revenue&#x27;, &#x27;disclosure&#x27;, &#x27;nuclear_percentage_revenue&#x27;, &#x27;oil_sands_percentage_revenue&#x27;, &#x27;pe_rat&#x27;, &#x27;revenue&#x27;, &#x27;shale_oil_gas_percentage_revenue&#x27;, &#x27;thermal_coal_percentage_revenue&#x27;, &#x27;ultra_deep_sea_drilling_percentage_revenue&#x27;]</pre></div></div></div><div class=\"sk-serial\"><div class=\"sk-item\"><div class=\"sk-estimator sk-toggleable\"><input class=\"sk-toggleable__control sk-hidden--visually\" id=\"sk-estimator-id-4\" type=\"checkbox\" ><label for=\"sk-estimator-id-4\" class=\"sk-toggleable__label sk-toggleable__label-arrow\">MinMaxScaler</label><div class=\"sk-toggleable__content\"><pre>MinMaxScaler()</pre></div></div></div></div></div></div><div class=\"sk-parallel-item\"><div class=\"sk-item\"><div class=\"sk-label-container\"><div class=\"sk-label sk-toggleable\"><input class=\"sk-toggleable__control sk-hidden--visually\" id=\"sk-estimator-id-5\" type=\"checkbox\" ><label for=\"sk-estimator-id-5\" class=\"sk-toggleable__label sk-toggleable__label-arrow\">cat_tr</label><div class=\"sk-toggleable__content\"><pre>[&#x27;Sector&#x27;]</pre></div></div></div><div class=\"sk-serial\"><div class=\"sk-item\"><div class=\"sk-estimator sk-toggleable\"><input class=\"sk-toggleable__control sk-hidden--visually\" id=\"sk-estimator-id-6\" type=\"checkbox\" ><label for=\"sk-estimator-id-6\" class=\"sk-toggleable__label sk-toggleable__label-arrow\">OneHotEncoder</label><div class=\"sk-toggleable__content\"><pre>OneHotEncoder(handle_unknown=&#x27;ignore&#x27;)</pre></div></div></div></div></div></div></div></div></div></div>"
      ],
      "text/plain": [
       "ColumnTransformer(sparse_threshold=0,\n",
       "                  transformers=[('num_tr', MinMaxScaler(),\n",
       "                                 ['Abrasive product manufacturing',\n",
       "                                  'Accounting, tax preparation, bookkeeping, '\n",
       "                                  'and payroll services',\n",
       "                                  'Adhesive manufacturing',\n",
       "                                  'Advertising and related services',\n",
       "                                  'Air and gas compressor manufacturing',\n",
       "                                  'Air conditioning, refrigeration, and warm '\n",
       "                                  'air heating equipment manufacturing',\n",
       "                                  'Air purification...\n",
       "                                  'All other textile product mills',\n",
       "                                  'All other transportation equipment '\n",
       "                                  'manufacturing',\n",
       "                                  'Alumina refining and primary aluminum '\n",
       "                                  'production',\n",
       "                                  'Aluminum product manufacturing from '\n",
       "                                  'purchased aluminum',\n",
       "                                  'Ammunition manufacturing',\n",
       "                                  'Amusement parks, arcades, and gambling '\n",
       "                                  'industries',\n",
       "                                  'Analytical laboratory instrument '\n",
       "                                  'manufacturing', ...]),\n",
       "                                ('cat_tr',\n",
       "                                 OneHotEncoder(handle_unknown='ignore'),\n",
       "                                 ['Sector'])])"
      ]
     },
     "execution_count": 12,
     "metadata": {},
     "output_type": "execute_result"
    }
   ],
   "source": [
    "num_col = sorted(X.select_dtypes(include=[\"int64\", \"float64\"]).columns)\n",
    "cat_col = sorted(list(set(X.columns) - set(num_col)))\n",
    "\n",
    "\n",
    "num_transformer = MinMaxScaler()\n",
    "cat_transformer = OneHotEncoder(handle_unknown='ignore')\n",
    "preprocessor = ColumnTransformer([\n",
    "    ('num_tr', num_transformer, num_col),\n",
    "    ('cat_tr', cat_transformer, cat_col)\n",
    "],\n",
    "sparse_threshold=0)\n",
    "preprocessor"
   ]
  },
  {
   "cell_type": "code",
   "execution_count": 13,
   "id": "90a629fc",
   "metadata": {},
   "outputs": [],
   "source": [
    "X_train, X_test, y_train, y_test = train_test_split(X,y, test_size=0.3)\n",
    "X_train_transformed = preprocessor.fit_transform(X_train)\n",
    "X_test_transformed = preprocessor.transform(X_test)"
   ]
  },
  {
   "cell_type": "code",
   "execution_count": 20,
   "id": "ccc79ad8",
   "metadata": {
    "scrolled": true
   },
   "outputs": [
    {
     "data": {
      "text/html": [
       "<style>#sk-container-id-4 {color: black;background-color: white;}#sk-container-id-4 pre{padding: 0;}#sk-container-id-4 div.sk-toggleable {background-color: white;}#sk-container-id-4 label.sk-toggleable__label {cursor: pointer;display: block;width: 100%;margin-bottom: 0;padding: 0.3em;box-sizing: border-box;text-align: center;}#sk-container-id-4 label.sk-toggleable__label-arrow:before {content: \"▸\";float: left;margin-right: 0.25em;color: #696969;}#sk-container-id-4 label.sk-toggleable__label-arrow:hover:before {color: black;}#sk-container-id-4 div.sk-estimator:hover label.sk-toggleable__label-arrow:before {color: black;}#sk-container-id-4 div.sk-toggleable__content {max-height: 0;max-width: 0;overflow: hidden;text-align: left;background-color: #f0f8ff;}#sk-container-id-4 div.sk-toggleable__content pre {margin: 0.2em;color: black;border-radius: 0.25em;background-color: #f0f8ff;}#sk-container-id-4 input.sk-toggleable__control:checked~div.sk-toggleable__content {max-height: 200px;max-width: 100%;overflow: auto;}#sk-container-id-4 input.sk-toggleable__control:checked~label.sk-toggleable__label-arrow:before {content: \"▾\";}#sk-container-id-4 div.sk-estimator input.sk-toggleable__control:checked~label.sk-toggleable__label {background-color: #d4ebff;}#sk-container-id-4 div.sk-label input.sk-toggleable__control:checked~label.sk-toggleable__label {background-color: #d4ebff;}#sk-container-id-4 input.sk-hidden--visually {border: 0;clip: rect(1px 1px 1px 1px);clip: rect(1px, 1px, 1px, 1px);height: 1px;margin: -1px;overflow: hidden;padding: 0;position: absolute;width: 1px;}#sk-container-id-4 div.sk-estimator {font-family: monospace;background-color: #f0f8ff;border: 1px dotted black;border-radius: 0.25em;box-sizing: border-box;margin-bottom: 0.5em;}#sk-container-id-4 div.sk-estimator:hover {background-color: #d4ebff;}#sk-container-id-4 div.sk-parallel-item::after {content: \"\";width: 100%;border-bottom: 1px solid gray;flex-grow: 1;}#sk-container-id-4 div.sk-label:hover label.sk-toggleable__label {background-color: #d4ebff;}#sk-container-id-4 div.sk-serial::before {content: \"\";position: absolute;border-left: 1px solid gray;box-sizing: border-box;top: 0;bottom: 0;left: 50%;z-index: 0;}#sk-container-id-4 div.sk-serial {display: flex;flex-direction: column;align-items: center;background-color: white;padding-right: 0.2em;padding-left: 0.2em;position: relative;}#sk-container-id-4 div.sk-item {position: relative;z-index: 1;}#sk-container-id-4 div.sk-parallel {display: flex;align-items: stretch;justify-content: center;background-color: white;position: relative;}#sk-container-id-4 div.sk-item::before, #sk-container-id-4 div.sk-parallel-item::before {content: \"\";position: absolute;border-left: 1px solid gray;box-sizing: border-box;top: 0;bottom: 0;left: 50%;z-index: -1;}#sk-container-id-4 div.sk-parallel-item {display: flex;flex-direction: column;z-index: 1;position: relative;background-color: white;}#sk-container-id-4 div.sk-parallel-item:first-child::after {align-self: flex-end;width: 50%;}#sk-container-id-4 div.sk-parallel-item:last-child::after {align-self: flex-start;width: 50%;}#sk-container-id-4 div.sk-parallel-item:only-child::after {width: 0;}#sk-container-id-4 div.sk-dashed-wrapped {border: 1px dashed gray;margin: 0 0.4em 0.5em 0.4em;box-sizing: border-box;padding-bottom: 0.4em;background-color: white;}#sk-container-id-4 div.sk-label label {font-family: monospace;font-weight: bold;display: inline-block;line-height: 1.2em;}#sk-container-id-4 div.sk-label-container {text-align: center;}#sk-container-id-4 div.sk-container {/* jupyter's `normalize.less` sets `[hidden] { display: none; }` but bootstrap.min.css set `[hidden] { display: none !important; }` so we also need the `!important` here to be able to override the default hidden behavior on the sphinx rendered scikit-learn.org. See: https://github.com/scikit-learn/scikit-learn/issues/21755 */display: inline-block !important;position: relative;}#sk-container-id-4 div.sk-text-repr-fallback {display: none;}</style><div id=\"sk-container-id-4\" class=\"sk-top-container\"><div class=\"sk-text-repr-fallback\"><pre>XGBRegressor(base_score=0.5, booster=&#x27;gbtree&#x27;, callbacks=None,\n",
       "             colsample_bylevel=1, colsample_bynode=1, colsample_bytree=1,\n",
       "             early_stopping_rounds=None, enable_categorical=False,\n",
       "             eval_metric=&#x27;mape&#x27;, gamma=0, gpu_id=-1, grow_policy=&#x27;depthwise&#x27;,\n",
       "             importance_type=None, interaction_constraints=&#x27;&#x27;,\n",
       "             learning_rate=0.300000012, max_bin=256, max_cat_to_onehot=4,\n",
       "             max_delta_step=0, max_depth=10, max_leaves=0, min_child_weight=1,\n",
       "             missing=nan, monotone_constraints=&#x27;()&#x27;, n_estimators=1500,\n",
       "             n_jobs=0, num_parallel_tree=1, predictor=&#x27;auto&#x27;, random_state=0,\n",
       "             reg_alpha=0, reg_lambda=1, ...)</pre><b>In a Jupyter environment, please rerun this cell to show the HTML representation or trust the notebook. <br />On GitHub, the HTML representation is unable to render, please try loading this page with nbviewer.org.</b></div><div class=\"sk-container\" hidden><div class=\"sk-item\"><div class=\"sk-estimator sk-toggleable\"><input class=\"sk-toggleable__control sk-hidden--visually\" id=\"sk-estimator-id-8\" type=\"checkbox\" checked><label for=\"sk-estimator-id-8\" class=\"sk-toggleable__label sk-toggleable__label-arrow\">XGBRegressor</label><div class=\"sk-toggleable__content\"><pre>XGBRegressor(base_score=0.5, booster=&#x27;gbtree&#x27;, callbacks=None,\n",
       "             colsample_bylevel=1, colsample_bynode=1, colsample_bytree=1,\n",
       "             early_stopping_rounds=None, enable_categorical=False,\n",
       "             eval_metric=&#x27;mape&#x27;, gamma=0, gpu_id=-1, grow_policy=&#x27;depthwise&#x27;,\n",
       "             importance_type=None, interaction_constraints=&#x27;&#x27;,\n",
       "             learning_rate=0.300000012, max_bin=256, max_cat_to_onehot=4,\n",
       "             max_delta_step=0, max_depth=10, max_leaves=0, min_child_weight=1,\n",
       "             missing=nan, monotone_constraints=&#x27;()&#x27;, n_estimators=1500,\n",
       "             n_jobs=0, num_parallel_tree=1, predictor=&#x27;auto&#x27;, random_state=0,\n",
       "             reg_alpha=0, reg_lambda=1, ...)</pre></div></div></div></div></div>"
      ],
      "text/plain": [
       "XGBRegressor(base_score=0.5, booster='gbtree', callbacks=None,\n",
       "             colsample_bylevel=1, colsample_bynode=1, colsample_bytree=1,\n",
       "             early_stopping_rounds=None, enable_categorical=False,\n",
       "             eval_metric='mape', gamma=0, gpu_id=-1, grow_policy='depthwise',\n",
       "             importance_type=None, interaction_constraints='',\n",
       "             learning_rate=0.300000012, max_bin=256, max_cat_to_onehot=4,\n",
       "             max_delta_step=0, max_depth=10, max_leaves=0, min_child_weight=1,\n",
       "             missing=nan, monotone_constraints='()', n_estimators=1500,\n",
       "             n_jobs=0, num_parallel_tree=1, predictor='auto', random_state=0,\n",
       "             reg_alpha=0, reg_lambda=1, ...)"
      ]
     },
     "execution_count": 20,
     "metadata": {},
     "output_type": "execute_result"
    }
   ],
   "source": [
    "loaded.fit(X_train_transformed, y_train)"
   ]
  },
  {
   "cell_type": "code",
   "execution_count": 21,
   "id": "4cc299de",
   "metadata": {
    "scrolled": true
   },
   "outputs": [
    {
     "data": {
      "text/plain": [
       "array([-3.9245024,  8.899129 ,  5.641958 , ..., 19.198616 , 43.95374  ,\n",
       "       71.57716  ], dtype=float32)"
      ]
     },
     "execution_count": 21,
     "metadata": {},
     "output_type": "execute_result"
    }
   ],
   "source": [
    "loaded.predict(X_test_transformed)"
   ]
  },
  {
   "cell_type": "code",
   "execution_count": 31,
   "id": "4adda8ae",
   "metadata": {},
   "outputs": [],
   "source": [
    "file = open('xgboost_loaded2.pkl', 'wb')\n",
    "pickle.dump(loaded, file)\n",
    "file.close()"
   ]
  },
  {
   "cell_type": "code",
   "execution_count": 27,
   "id": "7732f466",
   "metadata": {},
   "outputs": [],
   "source": [
    "X_to_test2 = X_test_transformed[2,:]"
   ]
  },
  {
   "cell_type": "code",
   "execution_count": 30,
   "id": "4178ad71",
   "metadata": {},
   "outputs": [],
   "source": [
    "pd.DataFrame(X_to_test2).to_csv(\"X_2.csv\", index=False)"
   ]
  },
  {
   "cell_type": "code",
   "execution_count": 32,
   "id": "a3c477ea",
   "metadata": {},
   "outputs": [],
   "source": [
    "from xgboost import Booster"
   ]
  },
  {
   "cell_type": "code",
   "execution_count": 33,
   "id": "b862a3f7",
   "metadata": {},
   "outputs": [],
   "source": [
    "loaded.save_model(\"test.json\")"
   ]
  },
  {
   "cell_type": "code",
   "execution_count": 34,
   "id": "03723aa9",
   "metadata": {},
   "outputs": [
    {
     "data": {
      "text/html": [
       "<style>#sk-container-id-5 {color: black;background-color: white;}#sk-container-id-5 pre{padding: 0;}#sk-container-id-5 div.sk-toggleable {background-color: white;}#sk-container-id-5 label.sk-toggleable__label {cursor: pointer;display: block;width: 100%;margin-bottom: 0;padding: 0.3em;box-sizing: border-box;text-align: center;}#sk-container-id-5 label.sk-toggleable__label-arrow:before {content: \"▸\";float: left;margin-right: 0.25em;color: #696969;}#sk-container-id-5 label.sk-toggleable__label-arrow:hover:before {color: black;}#sk-container-id-5 div.sk-estimator:hover label.sk-toggleable__label-arrow:before {color: black;}#sk-container-id-5 div.sk-toggleable__content {max-height: 0;max-width: 0;overflow: hidden;text-align: left;background-color: #f0f8ff;}#sk-container-id-5 div.sk-toggleable__content pre {margin: 0.2em;color: black;border-radius: 0.25em;background-color: #f0f8ff;}#sk-container-id-5 input.sk-toggleable__control:checked~div.sk-toggleable__content {max-height: 200px;max-width: 100%;overflow: auto;}#sk-container-id-5 input.sk-toggleable__control:checked~label.sk-toggleable__label-arrow:before {content: \"▾\";}#sk-container-id-5 div.sk-estimator input.sk-toggleable__control:checked~label.sk-toggleable__label {background-color: #d4ebff;}#sk-container-id-5 div.sk-label input.sk-toggleable__control:checked~label.sk-toggleable__label {background-color: #d4ebff;}#sk-container-id-5 input.sk-hidden--visually {border: 0;clip: rect(1px 1px 1px 1px);clip: rect(1px, 1px, 1px, 1px);height: 1px;margin: -1px;overflow: hidden;padding: 0;position: absolute;width: 1px;}#sk-container-id-5 div.sk-estimator {font-family: monospace;background-color: #f0f8ff;border: 1px dotted black;border-radius: 0.25em;box-sizing: border-box;margin-bottom: 0.5em;}#sk-container-id-5 div.sk-estimator:hover {background-color: #d4ebff;}#sk-container-id-5 div.sk-parallel-item::after {content: \"\";width: 100%;border-bottom: 1px solid gray;flex-grow: 1;}#sk-container-id-5 div.sk-label:hover label.sk-toggleable__label {background-color: #d4ebff;}#sk-container-id-5 div.sk-serial::before {content: \"\";position: absolute;border-left: 1px solid gray;box-sizing: border-box;top: 0;bottom: 0;left: 50%;z-index: 0;}#sk-container-id-5 div.sk-serial {display: flex;flex-direction: column;align-items: center;background-color: white;padding-right: 0.2em;padding-left: 0.2em;position: relative;}#sk-container-id-5 div.sk-item {position: relative;z-index: 1;}#sk-container-id-5 div.sk-parallel {display: flex;align-items: stretch;justify-content: center;background-color: white;position: relative;}#sk-container-id-5 div.sk-item::before, #sk-container-id-5 div.sk-parallel-item::before {content: \"\";position: absolute;border-left: 1px solid gray;box-sizing: border-box;top: 0;bottom: 0;left: 50%;z-index: -1;}#sk-container-id-5 div.sk-parallel-item {display: flex;flex-direction: column;z-index: 1;position: relative;background-color: white;}#sk-container-id-5 div.sk-parallel-item:first-child::after {align-self: flex-end;width: 50%;}#sk-container-id-5 div.sk-parallel-item:last-child::after {align-self: flex-start;width: 50%;}#sk-container-id-5 div.sk-parallel-item:only-child::after {width: 0;}#sk-container-id-5 div.sk-dashed-wrapped {border: 1px dashed gray;margin: 0 0.4em 0.5em 0.4em;box-sizing: border-box;padding-bottom: 0.4em;background-color: white;}#sk-container-id-5 div.sk-label label {font-family: monospace;font-weight: bold;display: inline-block;line-height: 1.2em;}#sk-container-id-5 div.sk-label-container {text-align: center;}#sk-container-id-5 div.sk-container {/* jupyter's `normalize.less` sets `[hidden] { display: none; }` but bootstrap.min.css set `[hidden] { display: none !important; }` so we also need the `!important` here to be able to override the default hidden behavior on the sphinx rendered scikit-learn.org. See: https://github.com/scikit-learn/scikit-learn/issues/21755 */display: inline-block !important;position: relative;}#sk-container-id-5 div.sk-text-repr-fallback {display: none;}</style><div id=\"sk-container-id-5\" class=\"sk-top-container\"><div class=\"sk-text-repr-fallback\"><pre>XGBRegressor(base_score=0.5, booster=&#x27;gbtree&#x27;, callbacks=None,\n",
       "             colsample_bylevel=1, colsample_bynode=1, colsample_bytree=1,\n",
       "             early_stopping_rounds=None, enable_categorical=False,\n",
       "             eval_metric=&#x27;mape&#x27;, gamma=0, gpu_id=-1, grow_policy=&#x27;depthwise&#x27;,\n",
       "             importance_type=None, interaction_constraints=&#x27;&#x27;,\n",
       "             learning_rate=0.300000012, max_bin=256, max_cat_to_onehot=4,\n",
       "             max_delta_step=0, max_depth=10, max_leaves=0, min_child_weight=1,\n",
       "             missing=nan, monotone_constraints=&#x27;()&#x27;, n_estimators=1500,\n",
       "             n_jobs=0, num_parallel_tree=1, predictor=&#x27;auto&#x27;, random_state=0,\n",
       "             reg_alpha=0, reg_lambda=1, ...)</pre><b>In a Jupyter environment, please rerun this cell to show the HTML representation or trust the notebook. <br />On GitHub, the HTML representation is unable to render, please try loading this page with nbviewer.org.</b></div><div class=\"sk-container\" hidden><div class=\"sk-item\"><div class=\"sk-estimator sk-toggleable\"><input class=\"sk-toggleable__control sk-hidden--visually\" id=\"sk-estimator-id-9\" type=\"checkbox\" checked><label for=\"sk-estimator-id-9\" class=\"sk-toggleable__label sk-toggleable__label-arrow\">XGBRegressor</label><div class=\"sk-toggleable__content\"><pre>XGBRegressor(base_score=0.5, booster=&#x27;gbtree&#x27;, callbacks=None,\n",
       "             colsample_bylevel=1, colsample_bynode=1, colsample_bytree=1,\n",
       "             early_stopping_rounds=None, enable_categorical=False,\n",
       "             eval_metric=&#x27;mape&#x27;, gamma=0, gpu_id=-1, grow_policy=&#x27;depthwise&#x27;,\n",
       "             importance_type=None, interaction_constraints=&#x27;&#x27;,\n",
       "             learning_rate=0.300000012, max_bin=256, max_cat_to_onehot=4,\n",
       "             max_delta_step=0, max_depth=10, max_leaves=0, min_child_weight=1,\n",
       "             missing=nan, monotone_constraints=&#x27;()&#x27;, n_estimators=1500,\n",
       "             n_jobs=0, num_parallel_tree=1, predictor=&#x27;auto&#x27;, random_state=0,\n",
       "             reg_alpha=0, reg_lambda=1, ...)</pre></div></div></div></div></div>"
      ],
      "text/plain": [
       "XGBRegressor(base_score=0.5, booster='gbtree', callbacks=None,\n",
       "             colsample_bylevel=1, colsample_bynode=1, colsample_bytree=1,\n",
       "             early_stopping_rounds=None, enable_categorical=False,\n",
       "             eval_metric='mape', gamma=0, gpu_id=-1, grow_policy='depthwise',\n",
       "             importance_type=None, interaction_constraints='',\n",
       "             learning_rate=0.300000012, max_bin=256, max_cat_to_onehot=4,\n",
       "             max_delta_step=0, max_depth=10, max_leaves=0, min_child_weight=1,\n",
       "             missing=nan, monotone_constraints='()', n_estimators=1500,\n",
       "             n_jobs=0, num_parallel_tree=1, predictor='auto', random_state=0,\n",
       "             reg_alpha=0, reg_lambda=1, ...)"
      ]
     },
     "execution_count": 34,
     "metadata": {},
     "output_type": "execute_result"
    }
   ],
   "source": [
    "loaded"
   ]
  },
  {
   "cell_type": "code",
   "execution_count": 35,
   "id": "2962f63c",
   "metadata": {},
   "outputs": [
    {
     "data": {
      "text/plain": [
       "['test3.sav']"
      ]
     },
     "execution_count": 35,
     "metadata": {},
     "output_type": "execute_result"
    }
   ],
   "source": [
    "import joblib\n",
    "joblib.dump(loaded, \"test3.sav\")"
   ]
  }
 ],
 "metadata": {
  "kernelspec": {
   "display_name": "Python 3 (ipykernel)",
   "language": "python",
   "name": "python3"
  },
  "language_info": {
   "codemirror_mode": {
    "name": "ipython",
    "version": 3
   },
   "file_extension": ".py",
   "mimetype": "text/x-python",
   "name": "python",
   "nbconvert_exporter": "python",
   "pygments_lexer": "ipython3",
   "version": "3.8.12"
  },
  "toc": {
   "base_numbering": 1,
   "nav_menu": {},
   "number_sections": true,
   "sideBar": true,
   "skip_h1_title": false,
   "title_cell": "Table of Contents",
   "title_sidebar": "Contents",
   "toc_cell": false,
   "toc_position": {},
   "toc_section_display": true,
   "toc_window_display": false
  }
 },
 "nbformat": 4,
 "nbformat_minor": 5
}
